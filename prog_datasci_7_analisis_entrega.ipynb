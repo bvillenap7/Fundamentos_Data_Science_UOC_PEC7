{
 "cells": [
  {
   "cell_type": "markdown",
   "metadata": {
    "id": "X-qhqxr7D8-F"
   },
   "source": [
    "<div style=\"width: 100%; clear: both;\">\n",
    "    <div style=\"float: left; width: 50%;\">\n",
    "       <img src=\"http://www.uoc.edu/portal/_resources/common/imatges/marca_UOC/UOC_Masterbrand.jpg\", align=\"left\">\n",
    "    </div>\n",
    "</div>\n",
    "\n",
    "<div style=\"float: right; width: 50%;\">\n",
    "    <p style=\"margin: 0; padding-top: 22px; text-align:right;\">22.501 · Fundamentos de Programación</p>\n",
    "    <p style=\"margin: 0; text-align:right;\">Grado en Ciencia de Datos Aplicada</p>\n",
    "    <p style=\"margin: 0; text-align:right; padding-button: 100px;\">Estudios de Informática, Multimedia y Telecomunicación</p>\n",
    "</div>\n",
    "\n",
    "</div>\n",
    "<div style=\"width: 100%; clear: both;\">\n",
    "<div style=\"width:100%;\">&nbsp;</div>"
   ]
  },
  {
   "cell_type": "markdown",
   "metadata": {
    "id": "kb7kfS_kD8-K"
   },
   "source": [
    "Fundamentos de Programación\n",
    "============================\n",
    "\n",
    "PEC 7: Introducción al análisis de datos en Python\n",
    "--------------------------------------\n",
    "\n",
    "En este Notebook se encontraréis el conjunto de actividades evaluables como PEC de la asignatura. Veréis que cada una de ellas tiene asociada una puntuación, que indica el peso que tiene la actividad sobre la nota final de la PEC. Adicionalmente, hay un ejercicio opcional, que no tiene puntuación dentro de la PEC, pero que se valora al final del semestre de cara a conceder las matrículas de honor y redondear las notas finales. Podréis sacar la máxima nota de la PEC sin necesidad de hacer este ejercicio. El objetivo de este ejercicio es que sirva como pequeño reto para los estudiantes que quieran profundizar en el contenido de la asignatura.\n",
    "\n",
    "Veréis que todas las actividades de la PEC tienen una etiqueta, que indica los recursos necesarios para llevarla a cabo. Hay tres posibles etiquetas:\n",
    "\n",
    "* <span style=\"font-family: Courier New; background-color: #82b74b; color: #000000; padding: 3px; \">NM</span> **Sólo materiales**: las herramientas necesarias para realizar la actividad se pueden encontrar en los materiales de la asignatura.\n",
    "\n",
    "* <span style = \"font-family: Courier New; background-color: #ffcc5c; color: #000000; padding: 3px; \">EG</span> **Consulta externa guiada**: la actividad puede requerir hacer uso de herramientas que no se encuentran en los materiales de la asignatura, pero el enunciado contiene indicaciones de dónde o cómo encontrar la información adicional necesaria para resolver la actividad.\n",
    "\n",
    "* <span style = \"font-family: Courier New; background-color: #f2ae72; color: #000000; padding: 3px;\">EI</span> **Consulta externa independiente**: la actividad puede requerir hacer uso de herramientas que no se encuentran en los materiales de la asignatura, y el enunciado puede no incluir la descripción de dónde o cómo encontrar esta información adicional. Será necesario que el estudiante busque esta información utilizando los recursos que se han explicado en la asignatura.\n",
    "\n",
    "Es importante notar que estas etiquetas no indican el nivel de dificultad del ejercicio, sino únicamente la necesidad de consulta de documentación externa para su resolución. Además, recordad que las **etiquetas son informativas**, pero podréis consultar referencias externas en cualquier momento (aunque no se indique explícitamente) o puede ser que podáis hacer una actividad sin consultar ningún tipo de documentación. Por ejemplo, para resolver una actividad que sólo requiera los materiales de la asignatura, puedéis consultar referencias externas si queréis, ya sea tanto para ayudaros en la resolución como para ampliar el conocimiento!\n",
    "\n",
    "En cuanto a la consulta de documentación externa en la resolución de los ejercicios, recordad **citar siempre la bibliografía utilizada** para resolver cada actividad.\n",
    "\n",
    "---"
   ]
  },
  {
   "cell_type": "markdown",
   "metadata": {
    "id": "0iZ5eVzjD8-M"
   },
   "source": [
    "Ejercicios para la PEC\n",
    "-------------------------------"
   ]
  },
  {
   "cell_type": "markdown",
   "metadata": {
    "id": "rYFOyquAD8-M"
   },
   "source": [
    "En esta PEC trabajaremos con un conjunto de datos (***dataset***) del sistema eléctrico español. Salvando algún ligero ajuste que hemos hecho para facilitaros el análisis, todos los datos estan disponibles en abierto en esta [página web](https://www.esios.ree.es/es) de Red Eléctrica de España (REE). Nuestro *dataset* contiene información horaria del precio medio de la electricidad (€/MWh), del consumo peninsular (MWh), del saldo entre interconexiones (MWh), de la generación de distintas tecnologías renovables y no renovables (MWh) así como el índice semanal de llenado de los embalses (MWh). Esperamos que disfrutéis de esta PEC."
   ]
  },
  {
   "cell_type": "markdown",
   "metadata": {
    "id": "LZ5kvoLUD8-N"
   },
   "source": [
    "### Ejercicio 1"
   ]
  },
  {
   "cell_type": "markdown",
   "metadata": {
    "id": "Shg1QrmvD8-N"
   },
   "source": [
    "(a) Carga el *dataset* e imprime por pantalla sus dimensiones, así como el nombre de las variables, su tipo y el número de valores no perdidos que contienen. <span style=\"font-family: Courier New; background-color: #82b74b; color: #000000; padding: 3px; \">NM</span> **(0.5 puntos)**"
   ]
  },
  {
   "cell_type": "code",
   "execution_count": null,
   "metadata": {
    "id": "S_NgZ4LIA9je"
   },
   "outputs": [],
   "source": [
    "# Respuesta"
   ]
  },
  {
   "cell_type": "markdown",
   "metadata": {
    "id": "MCCwV2uKD8-R"
   },
   "source": [
    "(b) Cambia el nombre de la primera columna a \"fecha\", asígnala como índice del *dataset* y modifica el tipo de variable a 'datetime64[ns]'. Imprime por pantalla las 2 primeras filas y las 2 últimas.  <span style=\"font-family: Courier New; background-color: #82b74b; color: #000000; padding: 3px; \">NM</span>  **(0.5 puntos)**"
   ]
  },
  {
   "cell_type": "code",
   "execution_count": null,
   "metadata": {
    "id": "8yV3GyDhBABb"
   },
   "outputs": [],
   "source": [
    "# Respuesta"
   ]
  },
  {
   "cell_type": "markdown",
   "metadata": {
    "id": "SVA-zG56D8-U"
   },
   "source": [
    "### Ejercicio 2"
   ]
  },
  {
   "cell_type": "markdown",
   "metadata": {
    "id": "PGfMPowKD8-U"
   },
   "source": [
    "(a) Calcula los valores estadísticos típicos del dataframe (min, max, media, etc.) e imprime por pantalla el nombre de la columna correspondiente a \"Generación programada PBF\" cuyo valor mínimo sea más alto.  <span style=\"font-family: Courier New; background-color: #82b74b; color: #000000; padding: 3px; \">NM</span>  **(0.5 puntos)**"
   ]
  },
  {
   "cell_type": "code",
   "execution_count": null,
   "metadata": {
    "id": "R0lXS94uBBa5"
   },
   "outputs": [],
   "source": [
    "# Respuesta"
   ]
  },
  {
   "cell_type": "markdown",
   "metadata": {
    "id": "wBIe91GND8-V"
   },
   "source": [
    "(b) Vamos a analizar como se comporta la demanda peninsular según la hora del día. Para ello, traza un `boxplot` de la `Demanda programada PBF total` cuyo eje horizontal se corresponda con las 24 horas del día. Te puede ser útil extraer la hora del índice `fecha` creado en el ejercicio 1.  <span style = \"font-family: Courier New; background-color: #ffcc5c; color: #000000; padding: 3px; \">EG</span>\n",
    "\n",
    "**Nota**: Para más información sobre la función boxplot podéis consultar este [enlace](https://pandas.pydata.org/pandas-docs/stable/reference/api/pandas.DataFrame.boxplot.html). \n",
    "\n",
    "**(1.0 punto)**\n"
   ]
  },
  {
   "cell_type": "code",
   "execution_count": null,
   "metadata": {
    "id": "xnBGTqDwBCmE"
   },
   "outputs": [],
   "source": [
    "# Respuesta"
   ]
  },
  {
   "cell_type": "markdown",
   "metadata": {
    "id": "wLTN3Va6D8-W"
   },
   "source": [
    "### Ejercicio 3"
   ]
  },
  {
   "cell_type": "markdown",
   "metadata": {
    "id": "s2b79a3sD8-W"
   },
   "source": [
    "Continuamos con el análisis de la demanda. Ahora haremos uso de técnicas de *machine learning* no supervisadas para buscar patrones de consumo. En concreto, intentaremos buscar **dos clusters**, uno característico del patrón de consumo en días laborables y otro, en días no laborables."
   ]
  },
  {
   "cell_type": "markdown",
   "metadata": {
    "id": "1PNte2ffD8-W"
   },
   "source": [
    "(a) A partir del dataframe resultante del ejercicio 1, extrae la serie correspondiente a la demanda del 2021 y modifica sus dimensiones según la tupla (365, 24). El objetivo es crear un `array` de `numpy` cuyas filas sean los días del año y cuyas columnas, las horas de cada día.  <span style=\"font-family: Courier New; background-color: #82b74b; color: #000000; padding: 3px; \">NM</span>  **(0.5 puntos)**"
   ]
  },
  {
   "cell_type": "code",
   "execution_count": null,
   "metadata": {
    "id": "yr93ZMy9BDxr"
   },
   "outputs": [],
   "source": [
    "# Respuesta"
   ]
  },
  {
   "cell_type": "markdown",
   "metadata": {
    "id": "c-MX1-WhD8-X"
   },
   "source": [
    "(b) Crea un modelo `KMeans`con **dos** clusters usando el algoritmo 'elkan' y traza la gráfica de los centroides de cada *cluster* en función de las horas del día.  <span style = \"font-family: Courier New; background-color: #ffcc5c; color: #000000; padding: 3px; \">EG</span> **(1.0 punto)**\n",
    "\n",
    "**Nota**: En el enlance siguiente encontarás más información sobre la función [KMeans](https://scikit-learn.org/stable/modules/generated/sklearn.cluster.KMeans.html)."
   ]
  },
  {
   "cell_type": "code",
   "execution_count": null,
   "metadata": {
    "id": "ULuH2iYLBE1p"
   },
   "outputs": [],
   "source": [
    "# Respuesta"
   ]
  },
  {
   "cell_type": "markdown",
   "metadata": {
    "id": "tH3rws5UD8-Y"
   },
   "source": [
    "(c) Utiliza la función imshow de matplotlib para visualizar los clusters anteriores sobre una matriz cuyas filas representan las semanas del año y cuyas columnas, los días de la semana. Te puede ser útil eliminar los 3 primeros y 5 últimos días del año para cuadrar semanas de lunes a domingo en cada columna. <span style=\"font-family: Courier New; background-color: #82b74b; color: #000000; padding: 3px; \">NM</span> **(opcional)**\n",
    "\n"
   ]
  },
  {
   "cell_type": "code",
   "execution_count": null,
   "metadata": {
    "id": "2XKo3SMgBF6_"
   },
   "outputs": [],
   "source": [
    "# Respuesta"
   ]
  },
  {
   "cell_type": "markdown",
   "metadata": {
    "id": "xqB6Y4iSD8-Y"
   },
   "source": [
    "### Ejercicio 4"
   ]
  },
  {
   "cell_type": "markdown",
   "metadata": {
    "id": "Radrf6NmD8-Z"
   },
   "source": [
    "En los siguientes ejercicios nos vamos a focalizar más en la variable \"Precio mercado SPOT Diario\". Calcula la matriz de correlación del conjunto de datos del ejercicio 1 y visualízala gráficamente. ¿Qué dos variables muestran mayor correlación con el precio?  <span style=\"font-family: Courier New; background-color: #82b74b; color: #000000; padding: 3px; \">NM</span>  **(1.0 punto)**"
   ]
  },
  {
   "cell_type": "code",
   "execution_count": null,
   "metadata": {
    "id": "l1jH7FeaBHHY"
   },
   "outputs": [],
   "source": [
    "# Respuesta"
   ]
  },
  {
   "cell_type": "markdown",
   "metadata": {
    "id": "kZIJvWj7D8-Z"
   },
   "source": [
    "### Ejercicio 5"
   ]
  },
  {
   "cell_type": "markdown",
   "metadata": {
    "id": "--ddmLb4D8-a"
   },
   "source": [
    "Hemos visto que no todas las variables del *dataset* están igual de correlacionadas con la variable precio. Esto nos hace preguntarnos, si queremos predecir el precio del mercado diario a partir de las otras variables, es necesario incluirlas todas? \n",
    "\n",
    "Cuando se construyen modelos, a veces tener muchas variables puede llevar a problemas de dimensionalidad, por lo tanto, es útil comprobar si se puede reducir este número sin perder información relevante. \n",
    "\n",
    "En este ejercicio realizaremos un **análisis de componentes principales (PCA)** para saber si podemos explicar el precio del mercado diario con un número reducido de variables (*features*). \n",
    "\n",
    "(a) A partir del conjunto de datos del ejercicio anterior, crea un DataFrame **sin** la variable `Precio mercado SPOT Diario` y normalízalo haciendo uso de `StandardScaler`. <span style=\"font-family: Courier New; background-color: #82b74b; color: #000000; padding: 3px; \">NM</span>  **(0.5 puntos)**"
   ]
  },
  {
   "cell_type": "code",
   "execution_count": null,
   "metadata": {
    "id": "iQ5rLyKbD8-a"
   },
   "outputs": [],
   "source": [
    "# Respuesta"
   ]
  },
  {
   "cell_type": "markdown",
   "metadata": {
    "id": "xGl2UWbaD8-a"
   },
   "source": [
    "(b) Con el *dataset* normalizado, crea un modelo de la clase [`PCA`](https://scikit-learn.org/stable/modules/generated/sklearn.decomposition.PCA.html) sin especificar el número de componentes a retener y verifica que el número de componentes finales coincide con el de columnas del *dataset* de entrenamiento.  <span style=\"font-family: Courier New; background-color: #82b74b; color: #000000; padding: 3px; \">NM</span>  **(0.5 puntos)**"
   ]
  },
  {
   "cell_type": "code",
   "execution_count": null,
   "metadata": {
    "id": "t5N61qadD8-a"
   },
   "outputs": [],
   "source": [
    "# Respuesta"
   ]
  },
  {
   "cell_type": "markdown",
   "metadata": {
    "id": "rMLjYoFED8-b"
   },
   "source": [
    "(c) ¿Cuántas componentes son necesarias para explicar como mínimo el 80% de la varianza del conjunto de datos de entrenamiento? <span style = \"font-family: Courier New; background-color: #f2ae72; color: #000000; padding: 3px;\">EI</span> **(1.0 punto)**"
   ]
  },
  {
   "cell_type": "code",
   "execution_count": null,
   "metadata": {
    "id": "D_M4kFVtD8-b"
   },
   "outputs": [],
   "source": [
    "# Respuesta"
   ]
  },
  {
   "cell_type": "markdown",
   "metadata": {
    "id": "QpohTw6GD8-b"
   },
   "source": [
    "### Ejercicio 6"
   ]
  },
  {
   "cell_type": "markdown",
   "metadata": {
    "id": "zQ0xXCdUD8-c"
   },
   "source": [
    "En este ejercicio vamos a trabajar con técnicas supervisadas de *machine learning* para intentar predecir numéricamente el precio del mercado SPOT diario con un modelo de regresión lineal `LinearRegression`.\n",
    "\n",
    "(a) A partir del *dataset* del ejercicio 1, utiliza la función [`train_test_split`](https://scikit-learn.org/stable/modules/generated/sklearn.model_selection.train_test_split.html) para seleccionar el conjunto de datos que servirán para la fase de entrenamiento (***training***) y para la fase de evaluación (***test***). Selecciona el 20% del total de muestras para el *test*. <span style = \"font-family: Courier New; background-color: #ffcc5c; color: #000000; padding: 3px; \">EG</span> **(0.5 puntos)**"
   ]
  },
  {
   "cell_type": "code",
   "execution_count": null,
   "metadata": {
    "id": "G0vcnjrBD8-c"
   },
   "outputs": [],
   "source": [
    "# Respuesta"
   ]
  },
  {
   "cell_type": "markdown",
   "metadata": {
    "id": "J7sH0qBvD8-c"
   },
   "source": [
    "(b) Crea el modelo de [`LinearRegression`](https://scikit-learn.org/stable/modules/generated/sklearn.linear_model.LinearRegression.html) y entrénalo. Al tratarse de un modelo de regresión, muestra por pantalla el coeficiente de determinación (**R2**) obtenido cuando se aplica el modelo sobre el conjunto de *test*. Recuerda que el mismo modelo dispone de la función `score` para el cálculo de R2. <span style = \"font-family: Courier New; background-color: #ffcc5c; color: #000000; padding: 3px; \">EG</span> **(0.5 puntos)**"
   ]
  },
  {
   "cell_type": "code",
   "execution_count": null,
   "metadata": {
    "id": "OqH_YhEmD8-c"
   },
   "outputs": [],
   "source": [
    "# Respuesta"
   ]
  },
  {
   "cell_type": "markdown",
   "metadata": {
    "id": "37HdpRglYNKt"
   },
   "source": [
    "(c) Repite el modelo de regresión linear de los apartados anteriores, pero esta vez utilizando datos normalizados reducidos con el modelo PCA. Se obtienen resultados parecidos? **Opcional**\n",
    "\n",
    "**Nota**: Usa como número de componentes el resultado del apartado 5c) (80% de la varianza explicada). "
   ]
  },
  {
   "cell_type": "code",
   "execution_count": null,
   "metadata": {
    "id": "UAZUdi-HBJse"
   },
   "outputs": [],
   "source": [
    "# Respuesta"
   ]
  },
  {
   "cell_type": "markdown",
   "metadata": {
    "id": "1peR_eOBD8-c"
   },
   "source": [
    "### Ejercicio 7"
   ]
  },
  {
   "cell_type": "markdown",
   "metadata": {
    "id": "P-eN5nZDD8-d"
   },
   "source": [
    "En este ejercicio seguiremos con el ***dataset* del ejercicio 1** para trabajar con las técnicas de *machine learning* supervisadas pero enfocadas, esta vez, a la clasificación. Para ello, primero de todo, debemos definir al menos dos clases de precios."
   ]
  },
  {
   "cell_type": "markdown",
   "metadata": {
    "id": "hG3ojIXVD8-d"
   },
   "source": [
    "(a) Añade una columna al *dataset* que sea 1 si el `Precio mercado SPOT Diario` es superior o igual a su percentil 50% y 0 si es inferior. Verifica por pantalla que, efectivamente, la columna nueva suele contiene dos valores. <span style=\"font-family: Courier New; background-color: #82b74b; color: #000000; padding: 3px; \">NM</span> **(0.5 puntos)**"
   ]
  },
  {
   "cell_type": "code",
   "execution_count": null,
   "metadata": {
    "id": "SRmOHOK_D8-d"
   },
   "outputs": [],
   "source": [
    "# Respuesta"
   ]
  },
  {
   "cell_type": "markdown",
   "metadata": {
    "id": "aUgfRJuxD8-e"
   },
   "source": [
    "(b) Como en el ejercicio anterior, utiliza la función [`train_test_split`](https://scikit-learn.org/stable/modules/generated/sklearn.model_selection.train_test_split.html) para seleccionar el conjunto de datos que servirán para la fase de entrenamiento (***training***) y para la fase de evaluación (***test***). Pero esta vez, utiliza los datos normalizados del ejercicio 5a como input y selecciona el 30% del total de muestras para el *test*. A continuación, crea el modelo de [`LogisticRegression`](https://scikit-learn.org/stable/modules/generated/sklearn.linear_model.LogisticRegression.html) y entrénalo. Muestra por pantalla el nivel de exactitud (*accuracy*) obtenida cuando se aplica el modelo sobre el conjunto de *test*. Recuerda que el mismo modelo dispone de la función `score` para el cálculo de la exactitud. <span style = \"font-family: Courier New; background-color: #ffcc5c; color: #000000; padding: 3px; \">EG</span> **(0.5 puntos)**"
   ]
  },
  {
   "cell_type": "code",
   "execution_count": null,
   "metadata": {
    "id": "TI_gp8ZtD8-e"
   },
   "outputs": [],
   "source": [
    "# Respuesta"
   ]
  },
  {
   "cell_type": "markdown",
   "metadata": {
    "id": "XplqPC52D8-e"
   },
   "source": [
    "(c) Fíjate que el *score* cambia cada vez que ejecutas el código del apartado anterior. Y es normal porque las muestras escogidas en el conjunto de datos de *training* y de *test* no son siempre las mismas. Haz una **validación cruzada** del modelo con la función [`cross_val_score`](https://scikit-learn.org/stable/modules/generated/sklearn.model_selection.cross_val_score.html) siguiendo un método *k-Fold* ([`KFold`](https://scikit-learn.org/stable/modules/generated/sklearn.model_selection.KFold.html)) con k=5 y `shuffle=True`. Muestra por pantalla la media de los scores obtenidos y su desviación típica. <span style = \"font-family: Courier New; background-color: #ffcc5c; color: #000000; padding: 3px; \">EG</span> **(1.0 punto)**"
   ]
  },
  {
   "cell_type": "code",
   "execution_count": null,
   "metadata": {
    "id": "BffugDgbD8-e"
   },
   "outputs": [],
   "source": [
    "# Respuesta"
   ]
  }
 ],
 "metadata": {
  "colab": {
   "provenance": []
  },
  "kernelspec": {
   "display_name": "Python 3",
   "language": "python",
   "name": "python3"
  },
  "language_info": {
   "codemirror_mode": {
    "name": "ipython",
    "version": 3
   },
   "file_extension": ".py",
   "mimetype": "text/x-python",
   "name": "python",
   "nbconvert_exporter": "python",
   "pygments_lexer": "ipython3",
   "version": "3.8.5"
  }
 },
 "nbformat": 4,
 "nbformat_minor": 1
}
