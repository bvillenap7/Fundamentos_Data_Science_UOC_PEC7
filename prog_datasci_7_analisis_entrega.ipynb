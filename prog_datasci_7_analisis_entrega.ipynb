{
 "cells": [
  {
   "cell_type": "markdown",
   "metadata": {},
   "source": [
    "<div style=\"width: 100%; clear: both;\">\n",
    "    <div style=\"float: left; width: 50%;\">\n",
    "       <img src=\"http://www.uoc.edu/portal/_resources/common/imatges/marca_UOC/UOC_Masterbrand.jpg\", align=\"left\">\n",
    "    </div>\n",
    "</div>\n",
    "\n",
    "<div style=\"float: right; width: 50%;\">\n",
    "    <p style=\"margin: 0; padding-top: 22px; text-align:right;\">22.501 · Fundamentos de Programación</p>\n",
    "    <p style=\"margin: 0; text-align:right;\">Grado en Ciencia de Datos Aplicada</p>\n",
    "    <p style=\"margin: 0; text-align:right; padding-button: 100px;\">Estudios de Informática, Multimedia y Telecomunicación</p>\n",
    "</div>\n",
    "</div>\n",
    "<div style=\"width: 100%; clear: both;\">\n",
    "<div style=\"width:100%;\">&nbsp;</div>"
   ]
  },
  {
   "cell_type": "markdown",
   "metadata": {},
   "source": [
    "Fundamentos de Programación\n",
    "============================\n",
    "\n",
    "PEC 7 - Enunciado\n",
    "-----------------------------------------------------\n",
    "\n",
    "En este Notebook se encontraréis el conjunto de actividades evaluables como PEC de la asignatura. Veréis que cada una de ellas tiene asociada una puntuación, que indica el peso que tiene la actividad sobre la nota final de la PEC. Adicionalmente, hay un ejercicio opcional, que no tiene puntuación dentro de la PEC, pero que se valora al final del semestre de cara a conceder las matrículas de honor y redondear las notas finales. Podréis sacar la máxima nota de la PAC sin necesidad de hacer este ejercicio. El objetivo de este ejercicio es que sirva como pequeño reto para los estudiantes que quieran profundizar en el contenido de la asignatura.\n",
    "\n",
    "Veréis que todas las actividades de la PEC tienen una etiqueta, que indica los recursos necesarios para llevarla a cabo. Hay tres posibles etiquetas:\n",
    "\n",
    "* <span style=\"font-family: Courier New; background-color: #82b74b; color: #000000; padding: 3px; \">NM</span> **Sólo materiales**: las herramientas necesarias para realizar la actividad se pueden encontrar en los materiales de la asignatura.\n",
    "\n",
    "* <span style = \"font-family: Courier New; background-color: #ffcc5c; color: #000000; padding: 3px; \">EG</span> **Consulta externa guiada**: la actividad puede requerir hacer uso de herramientas que no se encuentran en los materiales de la asignatura, pero el enunciado contiene indicaciones de dónde o cómo encontrar la información adicional necesaria para resolver la actividad.\n",
    "\n",
    "* <span style = \"font-family: Courier New; background-color: #f2ae72; color: #000000; padding: 3px;\">EI</span> **Consulta externa independiente**: la actividad puede requerir hacer uso de herramientas que no se encuentran en los materiales de la asignatura, y el enunciado puede no incluir la descripción de dónde o cómo encontrar esta información adicional. Será necesario que el estudiante busque esta información utilizando los recursos que se han explicado en la asignatura.\n",
    "\n",
    "Es importante notar que estas etiquetas no indican el nivel de dificultad del ejercicio, sino únicamente la necesidad de consulta de documentación externa para su resolución. Además, recordad que las **etiquetas son informativas**, pero podréis consultar referencias externas en cualquier momento (aunque no se indique explícitamente) o puede ser que podáis hacer una actividad sin consultar ningún tipo de documentación. Por ejemplo, para resolver una actividad que sólo requiera los materiales de la asignatura, puedéis consultar referencias externas si queréis, ya sea tanto para ayudaros en la resolución como para ampliar el conocimiento!\n",
    "\n",
    "En cuanto a la consulta de documentación externa en la resolución de los ejercicios, recordad **citar siempre la bibliografía utilizada** para resolver cada actividad.\n",
    "\n",
    "---"
   ]
  },
  {
   "cell_type": "markdown",
   "metadata": {},
   "source": [
    "### Ejercicio 1\n",
    "\n",
    "Las enfermedades cardiovasculares (ECV) son la principal causa de muerte en todo el mundo y se cobran aproximadamente 18 millones de vidas cada año, lo que representa casi un tercio de todas las muertes en todo el mundo. \n",
    "\n",
    "La insuficiencia cardíaca es un evento común causado por las ECV. \n",
    "\n",
    "La mayoría de las enfermedades cardiovasculares se pueden prevenir abordando los factores de riesgo conductuales, como el tabaquismo, la dieta poco saludable y la obesidad, la inactividad física y el consumo nocivo de alcohol, mediante estrategias que abarquen a toda la población.\n",
    "\n",
    "Las personas con enfermedades cardiovasculares o con alto riesgo cardiovascular (por la presencia de uno o más factores de riesgo como hipertensión, diabetes, hiperlipidemia o enfermedad ya establecida) necesitan una detección y manejo tempranos en los que un modelo de aprendizaje automático puede ser de gran ayuda.\n",
    "\n",
    "\n",
    "Veréis que en esta PEC usaremos un conjunto de datos sobre insuficiencia cardíaca, que encontraréis en el fichero `heart_failure_clinical_records_dataset.csv`.\n",
    "\n",
    "Este conjunto de datos contiene 12 características que pueden usarse para predecir la mortalidad por insuficiencia cardíaca. Estas son: \n",
    "\n",
    "- **age**: Edad del paciente\n",
    "- **anaemia:** nivel de hemoglobina del paciente (booleano)\n",
    "- **creatinine_phosphokinase:** Nivel de la enzima CPK en la sangre (mcg/L)\n",
    "- **diabetes:** si el paciente tiene diabetes (booleano)\n",
    "- **ejection_fraction:** porcentaje de sangre que sale del corazón en cada contracción\n",
    "- **high_blood_pressure:** Si el paciente tiene hipertensión (booleano)\n",
    "- **platelets:** Recuento de plaquetas en sangre (kiloplaquetas/mL)\n",
    "- **serum_creatinine:** Nivel de creatinina sérica en la sangre (mg/dL)\n",
    "- **serum_sodium:** Nivel de sodio sérico en la sangre (mEq/L)\n",
    "- **sex:** Sexo del paciente\n",
    "- **smoking:** Si el paciente fuma o no (Booleano)\n",
    "- **time:** Período de seguimiento (días)\n",
    "- **DEATH_EVENT:** si el paciente falleció durante el período de seguimiento (booleano)\n",
    "\n",
    "Codificación para los atributos que tienen valores booleanos:\n",
    "- 0 = Negativo (No)\n",
    "- 1 = Positivo (Sí)\n",
    " \n",
    "\n",
    "Este conjunto de datos fue publicado en: \n",
    "\n",
    "- Davide Chicco, Giuseppe Jurman: Machine learning can predict survival of patients with heart failure from serum creatinine and ejection fraction alone. BMC Medical Informatics and Decision Making 20, 16 (2020). [(enlace)](https://bmcmedinformdecismak.biomedcentral.com/articles/10.1186/s12911-020-1023-5)\n",
    "\n",
    "\n",
    "a) Carga la tabla en un dataframe. Mustra los nombres de las variables. Muestra los primeros 10 elementos y comprueba que las columnas generados son correctas.  Recuerda de tener especial cuidado con definir los separadores decimales y  los delimitadores de campo correctos.\n",
    "\n",
    "\n",
    "<span style=\"font-family: Courier New; background-color: #82b74b; color: #000000; padding: 3px; \">NM</span> **(0.5 puntos)** \n"
   ]
  },
  {
   "cell_type": "code",
   "execution_count": 207,
   "metadata": {},
   "outputs": [],
   "source": [
    "# Respuesta"
   ]
  },
  {
   "cell_type": "markdown",
   "metadata": {},
   "source": [
    "b) A partir de aquí:\n",
    "- Muestra el número de observaciones (filas)\n",
    "- Muestra el número de observaciones vacías por columna.\n",
    "- Elimina las filas que tengan un elemento no observado en alguna de sus columnas\n",
    "- Vuelve a mostrar el número de observaciones restante. \n",
    "\n",
    "<span style=\"font-family: Courier New; background-color: #82b74b; color: #000000; padding: 3px; \">NM</span> **(0.5 puntos)** "
   ]
  },
  {
   "cell_type": "code",
   "execution_count": 210,
   "metadata": {},
   "outputs": [],
   "source": [
    "# Respuesta"
   ]
  },
  {
   "cell_type": "markdown",
   "metadata": {},
   "source": [
    "c) Calcula:\n",
    "- El tanto por ciento de pacientes fallecidos durante el período de seguimiento.  \n",
    "- El promedio, desviación estándar, mínimo, máximo y cuartiles de cada variable.\n",
    "- Representa en un barplot la variable `DEATH_EVENT`\n",
    "\n",
    "<span style=\"font-family: Courier New; background-color: #82b74b; color: #000000; padding: 3px; \">NM</span> **(1 punto)** "
   ]
  },
  {
   "cell_type": "markdown",
   "metadata": {},
   "source": [
    "d) calcula la matriz de correlación entre las variables, y  representa la  matriz de correlación gráficamente con un mapa de calor o `heatmap`. Qué tres variables aparecen más correlacionadas con `DEATH_EVENT`?\n",
    "\n",
    "<span style=\"font-family: Courier New; background-color: #82b74b; color: #000000; padding: 3px; \">NM</span> **(1 punto)** "
   ]
  },
  {
   "cell_type": "markdown",
   "metadata": {},
   "source": [
    "### Ejercicio 2"
   ]
  },
  {
   "cell_type": "markdown",
   "metadata": {},
   "source": [
    "a) Realizad un test estadístico [ttest](https://docs.scipy.org/doc/scipy/reference/generated/scipy.stats.ttest_ind.html) para responder a la siguiente pregunta: ¿Los pacientes que no sobreviven tienen unos niveles diferentes de creatinina que los que sobreviven ? **(0.5 puntos)** \n",
    "\n",
    "Hipótesis Alternativa: Los pacientes que no sobreviven  no tienen un cambio   diferente de la que muestran los que sobreviven. \n",
    "\n",
    "Hipótesis Nula: Los pacientes que no sobreviven tienen un cambio diferente de la que muestran los que sobreviven.\n",
    "\n",
    "b) Una vez realizado el test, visualiza gráficamente con un boxplot la diferencia entre los dos grupos, interpreta los valores resultantes y elabora una respuesta. **(0.5 puntos)** \n",
    "\n",
    "**(1 punto)**   <span style=\"font-family: Courier New; background-color: #ffcc5c; color: #000000; padding: 2px; \">EG</span>\n",
    "\n",
    "Nota: Consulta [este enlace](http://www.conexionismo.com/leer_articulo.php?ref=prueba_t_de_student_para_la_comparacion_de_dos_muestras_independientes-j960497l) si quieres ampliar conocimientos sobre el test estadístico ttest. Para realizar el test estadístico automáticamente podéis utilizar el método [ttest_ind](https://docs.scipy.org/doc/scipy/reference/generated/scipy.stats.ttest_ind.html) de `Scipy.stats`"
   ]
  },
  {
   "cell_type": "code",
   "execution_count": 220,
   "metadata": {},
   "outputs": [],
   "source": [
    "# Respuesta"
   ]
  },
  {
   "cell_type": "markdown",
   "metadata": {},
   "source": [
    "### Ejercicio 3"
   ]
  },
  {
   "cell_type": "markdown",
   "metadata": {},
   "source": [
    "Vamos a hacer una PCA de 2 componentes de los datos, con las variables:  \n",
    "- age\n",
    "- anaemia\n",
    "- creatinine_phosphokinase\n",
    "- diabetes\n",
    "- ejection_fraction\n",
    "- high_blood_pressure \n",
    "- platelets \n",
    "- serum_creatinine\n",
    "- serum_sodium\n",
    "\n",
    "Para ello: \n",
    "\n",
    "a)  Antes de ajustar el modelo de PCA, tipifica los datos con `sklearn.preprocessing.StandardScaler`. ¿ Qué hace esta función? Calcula el valor medio y la desviación típica de los datos tipificados después de aplicar la función para cada de las variables.  \n",
    "\n",
    "\n",
    "<span style=\"font-family: Courier New; background-color: #82b74b; color: #000000; padding: 3px; \">NM</span> **(0.5 puntos)** \n",
    "\n"
   ]
  },
  {
   "cell_type": "code",
   "execution_count": 223,
   "metadata": {},
   "outputs": [],
   "source": [
    "# Respuesta "
   ]
  },
  {
   "cell_type": "markdown",
   "metadata": {},
   "source": [
    "b) Ajusta el modelo de componentes principales sobre los datos tipificados, limitando el número de componentes principales a 2. \n",
    "\n",
    "\n",
    "<span style=\"font-family: Courier New; background-color: #82b74b; color: #000000; padding: 3px; \">NM</span> **(0.5 puntos)** "
   ]
  },
  {
   "cell_type": "code",
   "execution_count": 226,
   "metadata": {},
   "outputs": [],
   "source": [
    "# Respuesta"
   ]
  },
  {
   "cell_type": "markdown",
   "metadata": {},
   "source": [
    "c)  Muestra los componentes y la varianza explicada de cada uno de ellos. ¿ Que quieren decir los valores obtenidos? \n",
    "\n",
    "\n",
    "<span style=\"font-family: Courier New; background-color: #82b74b; color: #000000; padding: 3px; \">NM</span> **(0.5 puntos)** "
   ]
  },
  {
   "cell_type": "code",
   "execution_count": 228,
   "metadata": {},
   "outputs": [],
   "source": [
    "# Respuesta "
   ]
  },
  {
   "cell_type": "markdown",
   "metadata": {},
   "source": [
    "Vemos que casi con dos componente podemos explicar un 27% de la varianza que tenemos. "
   ]
  },
  {
   "cell_type": "markdown",
   "metadata": {},
   "source": [
    "d) Representa un scatterplot con las proyecciones de los dos componentes transformados, de forma que el color de cada punto indique la condición `DEATH_EVENT`.\n",
    "\n",
    "\n",
    "<span style=\"font-family: Courier New; background-color: #82b74b; color: #000000; padding: 3px; \">NM</span> **(0.5 puntos)** "
   ]
  },
  {
   "cell_type": "code",
   "execution_count": 2,
   "metadata": {},
   "outputs": [],
   "source": [
    "# Respuesta"
   ]
  },
  {
   "cell_type": "markdown",
   "metadata": {},
   "source": [
    "e) Muestra una gráfica donde podamos ver como evoluciona la variabilidad explicada, a medida que vamos incrementando hasta 9 componentes.  ¿Cuántos componentes necesitamos para explicar más del 90% de la varianza? \n",
    "\n",
    "<span style=\"font-family: Courier New; background-color: #82b74b; color: #000000; padding: 3px; \">NM</span> **(1 punto)** \n"
   ]
  },
  {
   "cell_type": "code",
   "execution_count": 231,
   "metadata": {},
   "outputs": [],
   "source": [
    "# Respuesta"
   ]
  },
  {
   "cell_type": "markdown",
   "metadata": {},
   "source": [
    "### Ejercicio 4"
   ]
  },
  {
   "cell_type": "markdown",
   "metadata": {},
   "source": [
    "En este ejercicio nos gustaría ver si podemos agrupar los pacientes en grupos diferentes según sus características de una manera `no supervisada`. Con esa finalidad, utilizaremos el método `KMeans` que hemos visto en la teoría.  \n",
    "\n",
    "a) Antes de aplicar el KMeans, normaliza los datos originales utilizando la función `StandardScaler`, quitando de los datos la variable `DEATH_EVENT` \n",
    "\n",
    "<span style=\"font-family: Courier New; background-color: #82b74b; color: #000000; padding: 3px; \">NM</span> **(0.5 puntos)** \n",
    "\n"
   ]
  },
  {
   "cell_type": "code",
   "execution_count": null,
   "metadata": {},
   "outputs": [],
   "source": [
    "# Respuesta "
   ]
  },
  {
   "cell_type": "markdown",
   "metadata": {},
   "source": [
    "b) Uno de los problemas de los métodos no supervisados es identificar el número óptimo de clusters. Para poder estimar esta número óptimo, se utiliza frecuentemente `el método de Elbow`. Busca información sobre este método y utilízalo.  Propón un número óptimo de clusters\n",
    "\n",
    "<span style=\"font-family: Courier New; background-color: #f2ae72; color: #000000; padding: 3px; \">EI</span> **(1 punto)** "
   ]
  },
  {
   "cell_type": "code",
   "execution_count": null,
   "metadata": {},
   "outputs": [],
   "source": [
    "# Respuesta"
   ]
  },
  {
   "cell_type": "markdown",
   "metadata": {},
   "source": [
    "### Ejercicio 5"
   ]
  },
  {
   "cell_type": "markdown",
   "metadata": {},
   "source": [
    "En los ejercicios resueltos hemos visto como usar la regresión logística, y hemos hablado de la regresión lineal múltiple. \n",
    "\n",
    "\n",
    "En este ejercicio, tendréis que aplicar  la regresión logística para construir un modelo predictivo de la variable `DEATH_EVENT` según las características del conjunto de datos.\n",
    "\n",
    "\n",
    "a) Dividid los datos ya tipificados en conjuntos de entrenamiento (training) y evaluación (test), con un tamaño de la muestra para test del 40%. \n",
    "\n",
    "\n",
    "<span style=\"font-family: Courier New; background-color: #82b74b; color: #000000; padding: 3px; \">NM</span> **(0,5 punto)** \n",
    "\n"
   ]
  },
  {
   "cell_type": "code",
   "execution_count": null,
   "metadata": {},
   "outputs": [],
   "source": [
    "# Respuesta"
   ]
  },
  {
   "cell_type": "markdown",
   "metadata": {},
   "source": [
    "b) A continuación, entrenad el modelo con la porción de datos para el entrenamiento y calculad la precisión del modelo. Escribid una breve explicación que indique lo que significaría obtener tal precisión. ¿ Sería útil para predecir la salida o muerte de un paciente  (`DEATH_EVENT`)?\n",
    "\n",
    "\n",
    "\n",
    "<span style=\"font-family: Courier New; background-color: #82b74b; color: #000000; padding: 3px; \">NM</span> **(1 punto)** "
   ]
  },
  {
   "cell_type": "code",
   "execution_count": null,
   "metadata": {},
   "outputs": [],
   "source": [
    "# Respuesta"
   ]
  },
  {
   "cell_type": "markdown",
   "metadata": {},
   "source": [
    "### Ejercicio opcional"
   ]
  },
  {
   "cell_type": "markdown",
   "metadata": {},
   "source": [
    "En este ejercicio, asumiremos que sólo podemos usar estas variables para predecir la salida (`DEATH_EVENT`) del paciente: `ejection_fraction`,`serum_creatinine`,`age`.\n",
    "\n",
    "Aplicad un clasificador basado en un [árbol de decicisión](https://es.wikipedia.org/wiki/Árbol_de_decisión)\n",
    "de un máximo de 2 niveles de profundidad para predecir  la salida (`DEATH_EVENT`)  utilizando  las tres variables, empleando un 50% de las muestras de entrenamiento y el 50% de test. Debéis utilizar la función [sklearn.tree.DecisionTreeClassifier](https://scikit-learn.org/stable/modules/generated/sklearn.tree.DecisionTreeClassifier.html).\n",
    "\n",
    "¿Qué valor de precisión obtenemos en un modelo basado en un árbol de decisión? Representa el árbol de decisión y expórtalo a un archivo PDF. \n",
    "\n",
    "Nota: Tal vez la función tree de sklearn sea de utilidad.\n",
    "\n",
    "<span style=\"font-family: Courier New; background-color: #f2ae72; color: #000000; padding: 3px; \">EI</span>"
   ]
  },
  {
   "cell_type": "code",
   "execution_count": 3,
   "metadata": {},
   "outputs": [],
   "source": [
    "# Respuesta"
   ]
  }
 ],
 "metadata": {
  "interpreter": {
   "hash": "e404b59586357c814bc0d3940e75d6763c00a48753b225b81f7716971b8e1741"
  },
  "kernelspec": {
   "display_name": "Python 3",
   "language": "python",
   "name": "python3"
  },
  "language_info": {
   "codemirror_mode": {
    "name": "ipython",
    "version": 3
   },
   "file_extension": ".py",
   "mimetype": "text/x-python",
   "name": "python",
   "nbconvert_exporter": "python",
   "pygments_lexer": "ipython3",
   "version": "3.8.12"
  }
 },
 "nbformat": 4,
 "nbformat_minor": 4
}
