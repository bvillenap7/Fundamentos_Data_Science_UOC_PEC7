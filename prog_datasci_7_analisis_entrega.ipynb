{
 "cells": [
  {
   "cell_type": "markdown",
   "metadata": {},
   "source": [
    "# Programación para *Data Science*"
   ]
  },
  {
   "cell_type": "markdown",
   "metadata": {},
   "source": [
    "Unidad 7: Análisis de datos en Python - Ejercicios para practicar\n",
    "------------------------------------------------------"
   ]
  },
  {
   "cell_type": "markdown",
   "metadata": {},
   "source": [
    "   ## Ejercicio 1\n",
    "\n",
    "Cargad el conjunto de datos Iris incorporado en la librería `sklearn`.  Implementad una función, `describe_iris`, que devuelva un diccionario con la siguiente estructura: \n",
    "```\n",
    "{\n",
    "   \"categorias\": [],\n",
    "   \"atributos\": [],\n",
    "   \"num_muestras\": 0\n",
    "}\n",
    "```\n",
    "*categorias* debe ser un array con el nombre de los **targets** del dataset. *atributos* debe ser un array con el nombre de los **atributos** y finalmente, *num_muestras* debe indicar el número **total de muestras** del dataset. "
   ]
  },
  {
   "cell_type": "code",
   "execution_count": 1,
   "metadata": {},
   "outputs": [],
   "source": [
    "# Respuesta"
   ]
  },
  {
   "cell_type": "markdown",
   "metadata": {},
   "source": [
    "## Ejercicio 2\n",
    "\n",
    "Representad gráficamente en un scatter plot la longitud de los sépalos frente al ancho de los sépalos. \n",
    "Nota: para poder incluir acentos en los textos de las etiquetas o del título del plot, es necesario indicar explícitamente que las cadenas de caracteres son unicode. Podéis hacerlo incluyendo una _u_ delante de las comillas que delimitan la cadena de caracteres.\n"
   ]
  },
  {
   "cell_type": "code",
   "execution_count": 50,
   "metadata": {},
   "outputs": [],
   "source": [
    "# Respuesta"
   ]
  },
  {
   "cell_type": "markdown",
   "metadata": {},
   "source": [
    "## Ejercicio 3"
   ]
  },
  {
   "cell_type": "markdown",
   "metadata": {},
   "source": [
    "Dividir los datos Iris en dos subconjuntos, datos de entrenamiento y test, en una proporción 70% entrenamiento y 30% test."
   ]
  },
  {
   "cell_type": "code",
   "execution_count": 12,
   "metadata": {},
   "outputs": [],
   "source": [
    "# Respuesta"
   ]
  },
  {
   "cell_type": "markdown",
   "metadata": {},
   "source": [
    "## Ejercicios para la PEC"
   ]
  },
  {
   "cell_type": "markdown",
   "metadata": {},
   "source": [
    "A continuación encontraréis los ejercicios que debéis completar en esta PEC y que forman parte de la evaluación de esta unidad. Estos ejercicios utilizarán el conjunto de datos Iris, que habéis cargado y utilizado los ejercicios preliminares de esta PEC.  "
   ]
  },
  {
   "cell_type": "markdown",
   "metadata": {},
   "source": [
    "## Pregunta 1\n",
    "\n",
    "Enumera 3 algoritmos basado en el aprendizaje supervisado y describe, en grandes rasgos, como funciona uno de ellos. Recordad que es necesario citar las referencias consultadas para responder la pregunta, y que la respuesta que proporcionéis tiene que ser original (redactada por vosotros mismos, después de haber leído y entendido las referencias que consideréis oportunas). **(1 punto)**"
   ]
  },
  {
   "cell_type": "code",
   "execution_count": 2,
   "metadata": {},
   "outputs": [],
   "source": [
    "# Respuesta"
   ]
  },
  {
   "cell_type": "markdown",
   "metadata": {},
   "source": [
    "## Pregunta 2"
   ]
  },
  {
   "cell_type": "markdown",
   "metadata": {},
   "source": [
    "Define la validación de un modelo basado en _Leave One Out_. **(0.5 puntos)**"
   ]
  },
  {
   "cell_type": "code",
   "execution_count": null,
   "metadata": {},
   "outputs": [],
   "source": [
    "# Respuesta"
   ]
  },
  {
   "cell_type": "markdown",
   "metadata": {},
   "source": [
    "## Ejercicio 1"
   ]
  },
  {
   "cell_type": "markdown",
   "metadata": {},
   "source": [
    "Representad mediante [violinplot](https://en.wikipedia.org/wiki/Violin_plot) cómo varían la longitud y el ancho tanto para los sépalos como para los pétalos según especie. Recordad ajustar los parámetros de la visualización para facilitar la lectura e interpretación de la figura que generéis. **(1,5 puntos)**\n",
    "\n",
    "Nota: Cread un dataframe con los datos de iris.data y iris.target para plotear violinplot"
   ]
  },
  {
   "cell_type": "code",
   "execution_count": 2,
   "metadata": {
    "scrolled": false
   },
   "outputs": [],
   "source": [
    "#Respuesta"
   ]
  },
  {
   "cell_type": "markdown",
   "metadata": {},
   "source": [
    "## Ejercicio 2"
   ]
  },
  {
   "cell_type": "markdown",
   "metadata": {},
   "source": [
    "Aplicad el clasificador **KNeighborsClassifier** para predecir el tipo de especie de iris utilizando la longitud y ancho de los pétalos como atributos y utilizando 60% de las muestras de aprendizaje y 40% muestras de test (podéis usar cualquier partición de muestras de aprendizaje y de test).**(Total 2 puntos)**\n",
    "\n",
    "a) ¿Qué rendimiento se obtiene?**(1,5 puntos)** \n",
    "\n",
    "b) Si cambianos la proporción de muestras de entrenamiento y test (10% entrenamiento y 90% test). ¿Existen diferencias en el rendiemiento? En caso afirmativo, ¿por qué? **(0,5 puntos)**"
   ]
  },
  {
   "cell_type": "code",
   "execution_count": 3,
   "metadata": {},
   "outputs": [],
   "source": [
    "#Respuesta"
   ]
  },
  {
   "cell_type": "markdown",
   "metadata": {},
   "source": [
    "## Ejercicio 3"
   ]
  },
  {
   "cell_type": "markdown",
   "metadata": {},
   "source": [
    "Realizad el ejercicio anterior pero aplicando un clasificador basado en un [árbol de decicisión](https://es.wikipedia.org/wiki/Árbol_de_decisión)\n",
    "para predecir el tipo de especie de iris utilizando la longitud y ancho de los pétalos como atributos y utilizando 60% de las muestras de aprendizaje y 40% muestras de test.¿Qué valor de precisión obtenemos con un modelo basado en un arbol de decisión? **(1,5 puntos)** "
   ]
  },
  {
   "cell_type": "code",
   "execution_count": 1,
   "metadata": {},
   "outputs": [],
   "source": [
    "#Respuesta"
   ]
  },
  {
   "cell_type": "markdown",
   "metadata": {},
   "source": [
    "## Ejercicio 4\n",
    "\n",
    "Dibujad el árbol de decisión obtenido en el ejercicio 3 y dado un valor de entrada concreto, explicad la predicción obtenida a partir del árbol de decisión.\n",
    "\n",
    "Nota: Puede ser la función [tree](https://scikit-learn.org/stable/modules/tree.html) de sklearn sea de utilidad.\n",
    "\n",
    "**(1,5 puntos)**"
   ]
  },
  {
   "cell_type": "markdown",
   "metadata": {},
   "source": [
    "#### Respuesta:\n"
   ]
  },
  {
   "cell_type": "code",
   "execution_count": 6,
   "metadata": {},
   "outputs": [],
   "source": [
    "#Respuesta"
   ]
  },
  {
   "cell_type": "markdown",
   "metadata": {},
   "source": [
    "## Ejercicio 5\n",
    "\n",
    "Aplicad el algoritmo de _clustering KMeans_ tal como hemos visto en el Notebook de teoría, pero esta vez utilizando los siguientes parámetros:\n",
    "\n",
    "```\n",
    "Número de clusters: 10\n",
    "Método de inicialización de los puntos centrales: 'random'\n",
    "Número de iteraciones para la selección de puntos centrales: 5\n",
    "Algoritmo: 'elkan'\n",
    "```\n",
    "\n",
    "Visualizad gráficamente el resultado. Si los datos fuesen [dispersos](https://en.wikipedia.org/wiki/Sparse_matrix), ¿qué opción del parámetro _alg_ de la función _sklearn.cluster.KMeans_ deberíamos utilizar?  **(2 puntos)**"
   ]
  },
  {
   "cell_type": "code",
   "execution_count": 7,
   "metadata": {},
   "outputs": [],
   "source": [
    "#Respuesta"
   ]
  },
  {
   "cell_type": "markdown",
   "metadata": {},
   "source": [
    "## Ejercicio Opcional\n",
    "\n",
    "Modificad la función anterior para realizar _spectral clustering_ con un nombre de clústers igual a 3.  Visualizad gráficamente el resultado coloreando por clase de Iris. "
   ]
  },
  {
   "cell_type": "code",
   "execution_count": 3,
   "metadata": {},
   "outputs": [],
   "source": [
    "# Respuesta"
   ]
  },
  {
   "cell_type": "markdown",
   "metadata": {},
   "source": [
    "## Soluciones a los ejercicios para practicar"
   ]
  },
  {
   "cell_type": "markdown",
   "metadata": {},
   "source": [
    "   ## Ejercicio 1\n",
    "\n",
    "Cargad el conjunto de datos Iris incorporado en la librería `sklearn`.  Implementad una función, `describe_iris`, que devuelva un diccionario con la siguiente estructura: \n",
    "```\n",
    "{\n",
    "   \"categorias\": [],\n",
    "   \"atributos\": [],\n",
    "   \"num_muestras\": 0\n",
    "}\n",
    "```\n",
    "*categorias* debe ser un array con el nombre de los **targets** del dataset. *atributos* debe ser un array con el nombre de los **atributos** y finalmente, *num_muestras* debe indicar el número **total de muestras** del dataset. "
   ]
  },
  {
   "cell_type": "code",
   "execution_count": 26,
   "metadata": {},
   "outputs": [
    {
     "name": "stdout",
     "output_type": "stream",
     "text": [
      "{'categorias': array(['setosa', 'versicolor', 'virginica'], dtype='|S10'), 'atributos': ['sepal length (cm)', 'sepal width (cm)', 'petal length (cm)', 'petal width (cm)'], 'num_muestras': 150}\n"
     ]
    }
   ],
   "source": [
    "from sklearn import datasets\n",
    "\n",
    "#Cargamos el dataset de iris\n",
    "\n",
    "iris = datasets.load_iris()\n",
    "\n",
    "def describe_iris():\n",
    "    #Inicializamos el diccionario\n",
    "    diccionario = {}\n",
    "    #Asignamos a cada atributo el valor correspondiente en base al dataset Iris\n",
    "    diccionario[\"categorias\"] = iris.target_names\n",
    "    diccionario[\"atributos\"] = iris.feature_names\n",
    "    diccionario[\"num_muestras\"] = len(iris.data)\n",
    "    \n",
    "    return diccionario\n",
    "\n",
    "print describe_iris()"
   ]
  },
  {
   "cell_type": "markdown",
   "metadata": {},
   "source": [
    "## Ejercicio 2"
   ]
  },
  {
   "cell_type": "markdown",
   "metadata": {},
   "source": [
    "Representad gráficamente en un scatter plot la longitud de los sépalos frente al ancho de los sépalos. \n",
    "Nota: para poder incluir acentos en los textos de las etiquetas o del título del plot, es necesario indicar explícitamente que las cadenas de caracteres son unicode. Podéis hacerlo incluyendo una u delante de las comillas que delimitan la cadena de caracteres."
   ]
  },
  {
   "cell_type": "code",
   "execution_count": 39,
   "metadata": {},
   "outputs": [
    {
     "data": {
      "text/plain": [
       "Text(0,0.5,u'Ancho S\\xe9palo')"
      ]
     },
     "execution_count": 39,
     "metadata": {},
     "output_type": "execute_result"
    },
    {
     "data": {
      "image/png": "[encoded data removed]",
      "text/plain": [
       "<Figure size 576x432 with 1 Axes>"
      ]
     },
     "metadata": {
      "needs_background": "light"
     },
     "output_type": "display_data"
    }
   ],
   "source": [
    "%matplotlib inline\n",
    "\n",
    "#Importamos las librerías\n",
    "\n",
    "import matplotlib.pyplot as plt\n",
    "from sklearn import datasets\n",
    "\n",
    "# Importamos el dataset\n",
    "\n",
    "iris=datasets.load_iris()\n",
    "\n",
    "L_sep = iris.data[:,0]\n",
    "\n",
    "W_sep= iris.data[:,1]\n",
    "\n",
    "Y = iris.target\n",
    "\n",
    "# Creamos la figura\n",
    "\n",
    "plt.figure(1, figsize=(8,6))\n",
    "\n",
    "plt.clf()\n",
    "\n",
    "# Coloreamos utilizando la categoría.\n",
    "\n",
    "plt.scatter(L_sep,W_sep,c=Y)\n",
    "plt.xlabel(u'Longitud Sépalo')\n",
    "plt.ylabel(u'Ancho Sépalo')\n",
    "\n"
   ]
  },
  {
   "cell_type": "markdown",
   "metadata": {},
   "source": [
    "## Ejercicio 3"
   ]
  },
  {
   "cell_type": "markdown",
   "metadata": {},
   "source": [
    "Dividir los datos Iris en dos subconjuntos, datos de entrenamiento y test, en una proporción 70% entrenamiento y 30% test."
   ]
  },
  {
   "cell_type": "code",
   "execution_count": 71,
   "metadata": {},
   "outputs": [
    {
     "name": "stdout",
     "output_type": "stream",
     "text": [
      "(105, 4)\n",
      "(45, 4)\n",
      "[[5.4 3.7 1.5 0.2]\n",
      " [6.9 3.1 4.9 1.5]\n",
      " [5.4 3.9 1.7 0.4]\n",
      " [6.5 3.  5.8 2.2]\n",
      " [4.6 3.1 1.5 0.2]\n",
      " [4.6 3.6 1.  0.2]\n",
      " [6.3 3.3 4.7 1.6]\n",
      " [5.7 2.8 4.5 1.3]\n",
      " [5.8 2.7 3.9 1.2]\n",
      " [6.7 2.5 5.8 1.8]\n",
      " [6.7 3.3 5.7 2.1]\n",
      " [6.4 2.7 5.3 1.9]\n",
      " [5.8 2.6 4.  1.2]\n",
      " [5.1 2.5 3.  1.1]\n",
      " [5.2 3.5 1.5 0.2]\n",
      " [6.3 2.5 5.  1.9]\n",
      " [6.9 3.2 5.7 2.3]\n",
      " [4.8 3.  1.4 0.3]\n",
      " [7.2 3.2 6.  1.8]\n",
      " [6.7 3.  5.  1.7]\n",
      " [6.3 2.9 5.6 1.8]\n",
      " [5.  3.2 1.2 0.2]\n",
      " [6.1 2.9 4.7 1.4]\n",
      " [5.5 4.2 1.4 0.2]\n",
      " [6.1 2.8 4.  1.3]\n",
      " [6.2 3.4 5.4 2.3]\n",
      " [6.3 3.3 6.  2.5]\n",
      " [5.  3.4 1.6 0.4]\n",
      " [6.4 3.1 5.5 1.8]\n",
      " [5.  3.5 1.3 0.3]\n",
      " [6.5 3.  5.2 2. ]\n",
      " [5.  2.  3.5 1. ]\n",
      " [5.6 2.5 3.9 1.1]\n",
      " [6.1 3.  4.6 1.4]\n",
      " [4.4 3.  1.3 0.2]\n",
      " [5.5 2.4 3.7 1. ]\n",
      " [6.1 2.8 4.7 1.2]\n",
      " [6.3 2.3 4.4 1.3]\n",
      " [7.7 3.8 6.7 2.2]\n",
      " [6.7 3.1 4.7 1.5]\n",
      " [5.5 2.3 4.  1.3]\n",
      " [6.8 2.8 4.8 1.4]\n",
      " [6.5 3.2 5.1 2. ]\n",
      " [6.  2.7 5.1 1.6]\n",
      " [4.6 3.2 1.4 0.2]]\n"
     ]
    }
   ],
   "source": [
    "\n",
    "from sklearn.model_selection import train_test_split \n",
    "\n",
    "\n",
    "iris=datasets.load_iris()\n",
    "\n",
    "# Dividimos los datos en datos de entrenamiento (70%) y de test (30%) mediante la función train_test_split\n",
    "\n",
    "train,test = train_test_split(iris.data, test_size=0.3)\n",
    "\n",
    "# El atributo test_size=0.3 divide los datos en una proporción de 70% y 30%. entrenamiento=70% y test=30%.\n",
    "\n",
    "print(train.shape)\n",
    "\n",
    "print(test.shape)\n",
    "\n",
    "print(test)\n"
   ]
  }
 ],
 "metadata": {
  "kernelspec": {
   "display_name": "Python 2",
   "language": "python",
   "name": "python2"
  },
  "language_info": {
   "codemirror_mode": {
    "name": "ipython",
    "version": 2
   },
   "file_extension": ".py",
   "mimetype": "text/x-python",
   "name": "python",
   "nbconvert_exporter": "python",
   "pygments_lexer": "ipython2",
   "version": "2.7.13"
  }
 },
 "nbformat": 4,
 "nbformat_minor": 1
}
