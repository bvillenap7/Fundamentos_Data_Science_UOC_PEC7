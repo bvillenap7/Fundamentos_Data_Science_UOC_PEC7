{
 "cells": [
  {
   "cell_type": "markdown",
   "metadata": {},
   "source": [
    "<div style=\"width: 100%; clear: both;\">\n",
    "    <div style=\"float: left; width: 50%;\">\n",
    "       <img src=\"http://www.uoc.edu/portal/_resources/common/imatges/marca_UOC/UOC_Masterbrand.jpg\", align=\"left\">\n",
    "    </div>\n",
    "</div>\n",
    "\n",
    "<div style=\"float: right; width: 50%;\">\n",
    "    <p style=\"margin: 0; padding-top: 22px; text-align:right;\">22.501 · Fundamentos de Programación</p>\n",
    "    <p style=\"margin: 0; text-align:right;\">Grado de Ciencia de Datos Aplicada</p>\n",
    "    <p style=\"margin: 0; text-align:right; padding-button: 100px;\">Estudios de Informática, Multimedia y Telecomunicación</p>\n",
    "</div>\n",
    "\n",
    "</div>\n",
    "<div style=\"width: 100%; clear: both;\">\n",
    "<div style=\"width:100%;\">&nbsp;</div>"
   ]
  },
  {
   "cell_type": "markdown",
   "metadata": {},
   "source": [
    "Programación para *Data Science*\n",
    "============================\n",
    "\n",
    "PEC 7 - Introducción al análisis de datos en Python\n",
    "-----------------------------------------------------\n",
    "\n",
    "En este Notebook encontraréis el conjunto de actividades evaluables como PEC de la asignatura. Veréis que cada una de ellas tiene asociada una puntuación, que indica el peso que tiene la actividad sobre la nota final de la PEC. Adicionalmente, hay un ejercicio opcional, que no tiene puntuación dentro de la PEC, pero que se valora al final del semestre de cara a conceder las matrículas de honor y redondear las notas finales. Podréis sacar la máxima nota de la PAC sin necesidad de hacer este ejercicio. El objetivo de este ejercicio es que sirva como pequeño reto para los estudiantes que quieran profundizar en el contenido de la asignatura.\n",
    "\n",
    "Veréis que todas las actividades de la PEC tienen una etiqueta, que indica los recursos necesarios para llevarla a cabo. Hay tres posibles etiquetas:\n",
    "\n",
    "* <span style=\"font-family: Courier New; background-color: #82b74b; color: #000000; padding: 3px; \">NM</span> **Sólo materiales**: las herramientas necesarias para realizar la actividad se pueden encontrar en los materiales de la asignatura.\n",
    "\n",
    "* <span style = \"font-family: Courier New; background-color: #ffcc5c; color: #000000; padding: 3px; \">EG</span> **Consulta externa guiada**: la actividad puede requerir hacer uso de herramientas que no se encuentran en los materiales de la asignatura, pero el enunciado contiene indicaciones de dónde o cómo encontrar la información adicional necesaria para resolver la actividad.\n",
    "\n",
    "* <span style = \"font-family: Courier New; background-color: #f2ae72; color: #000000; padding: 3px;\">EI</span> **Consulta externa independiente**: la actividad puede requerir hacer uso de herramientas que no se encuentran en los materiales de la asignatura, y el enunciado puede no incluir la descripción de dónde o cómo encontrar esta información adicional. Será necesario que el estudiante busque esta información utilizando los recursos que se han explicado en la asignatura.\n",
    "\n",
    "Es importante notar que estas etiquetas no indican el nivel de dificultad del ejercicio, sino únicamente la necesidad de consulta de documentación externa para su resolución. Además, recordad que las **etiquetas son informativas**, pero podréis consultar referencias externas en cualquier momento (aunque no se indique explícitamente) o puede ser que podáis hacer una actividad sin consultar ningún tipo de documentación. Por ejemplo, para resolver una actividad que sólo requiera los materiales de la asignatura, puedéis consultar referencias externas si queréis, ya sea tanto para ayudaros en la resolución como para ampliar el conocimiento!\n",
    "\n",
    "En cuanto a la consulta de documentación externa en la resolución de los ejercicios, recordad **citar siempre la bibliografía utilizada** para resolver cada actividad.\n",
    "\n",
    "---"
   ]
  },
  {
   "cell_type": "markdown",
   "metadata": {},
   "source": [
    "## Ejercicio 1\n",
    "\n",
    "En esta PEC vamos a trabajar con un conjunto de datos (*dataset*) dedicado al **reconocimiento de dígitos manuscritos** y que es directamente accesible desde la librería de `sklearn`. En este ejercicio haremos una primera *exploración* del *dataset* para tener una mejor comprensión de los datos que vamos a manipular. Empecemos cargando el *dataset*:"
   ]
  },
  {
   "cell_type": "code",
   "execution_count": 6,
   "metadata": {},
   "outputs": [],
   "source": [
    "from sklearn import datasets\n",
    "digits = datasets.load_digits(as_frame=True)"
   ]
  },
  {
   "cell_type": "markdown",
   "metadata": {},
   "source": [
    "(a) Imprime por pantalla el tipo y las dimensiones de los distintos atributos de la variable `digits`. ¿Cuántos *features* por muestra caracterizan este *dataset*? ¿Qué contiene *data* y en qué se diferencia del atributo *images*? Utiliza la función `imshow` de `matplotlib` para visualizar las diez primeras imágenes del *dataset*. <span style=\"font-family: Courier New; background-color: #82b74b; color: #000000; padding: 3px; \">NM</span> **(0.5 puntos)**\n",
    "\n",
    "**NOTA**: Encontrarás más información sobre el *dataset* en este enlace: https://scikit-learn.org/stable/modules/generated/sklearn.datasets.load_digits.html\n",
    "\n",
    "(b) ¿Qué finalidad tiene el atributo *target*? ¿Para cuántos dígitos (clases) disponemos de información? Imprime por pantalla el número de muestras por clase y razona si el *dataset* está bien balanceado. <span style = \"font-family: Courier New; background-color: #f2ae72; color: #000000; padding: 3px;\">EI</span> **(0.5 puntos)**"
   ]
  },
  {
   "cell_type": "code",
   "execution_count": 1,
   "metadata": {},
   "outputs": [],
   "source": [
    "# Respuesta"
   ]
  },
  {
   "cell_type": "markdown",
   "metadata": {},
   "source": [
    "## Ejercicio 2\n",
    "\n",
    "Continuemos *explorando* el conjunto de datos.\n",
    "\n",
    "\n",
    "(a) ¿Qué rango de valores puede tomar un píxel? Agrupa las imágenes por dígito y calcula, para cada grupo, la varianza por píxel. En el siguiente enlace encontraréis un ejemplo de cómo calcular la varianza utilizando la librería `Pandas`: https://pandas.pydata.org/pandas-docs/stable/reference/api/pandas.DataFrame.var.html <span style = \"font-family: Courier New; background-color: #ffcc5c; color: #000000; padding: 3px; \">EG</span> **(0.25 puntos)**\n",
    "\n",
    "(b) Traza los valores de varianza de todos los dígitos en un mismo gráfico, es decir, un gráfico cuyo eje de ordenadas mida la varianza por dígito y cuyo eje de abscisas contenga los 64 *features* posibles de cada muestra del conjunto de datos. <span style=\"font-family: Courier New; background-color: #82b74b; color: #000000; padding: 2px; \">NM</span> **(0.25 puntos)**\n",
    "\n",
    "(c) Crea un dataframe que contenga la *intensidad* de cada imagen (que definiremos como la media del valor de los **cuatro píxeles centrales** de cada imagen: *pixel_3_3, pixel_3_4, pixel_4_3, pixel_4_4*) y el dígito al que está asociado. Muestra por pantalla las 15 primeras filas. <span style=\"font-family: Courier New; background-color: #82b74b; color: #000000; padding: 2px; \">NM</span> **(0.5 puntos)**\n",
    "\n",
    "(d) Visualiza en un **boxplot** las *intensidades* por dígito. Del dataframe anterior, elimina los ***outliers*** (es decir, los *fliers points* según la terminología de la [documentación](https://matplotlib.org/3.1.1/api/_as_gen/matplotlib.axes.Axes.boxplot.html)) y muestra por pantalla las dimensiones del dataframe resultante. Para los límites de los *whiskers* podéis tomar los valores por defecto: `whis=1.5`. <span style = \"font-family: Courier New; background-color: #f2ae72; color: #000000; padding: 3px;\">EI</span> **(1.0 puntos)**\n",
    "\n",
    "(e) Traza el **histograma** de intensidades por dígito del dataframe **sin *outliers***. A primera vista, para este conjunto de datos nuevo, ¿te parece la *intensidad*, tal y como la hemos definido, un atributo/*feature* útil para mejorar el reconocimiento de algún dígito concreto? <span style=\"font-family: Courier New; background-color: #82b74b; color: #000000; padding: 2px; \">NM</span> **(0.5 puntos)**\n",
    "\n",
    "(f) A la vista de los resultados anteriores, define un criterio basado en la *intensidad* y comprueba si, con algún dígito, se pueden obtener tasas de éxito de más del 90%. Se entiende aquí por tasa de éxito, el porcentaje de casos reconocidos correctamente, sobre el número total de muestras evaluadas. <span style=\"font-family: Courier New; background-color: #82b74b; color: #000000; padding: 2px; \">NM</span> **(opcional)**"
   ]
  },
  {
   "cell_type": "code",
   "execution_count": 2,
   "metadata": {},
   "outputs": [],
   "source": [
    "# Respuesta"
   ]
  },
  {
   "cell_type": "markdown",
   "metadata": {},
   "source": [
    "## Ejercicio 3\n",
    "\n",
    "Hemos visto anteriormente que no todos los píxeles aportan la misma información para el reconocimiento de dígitos. En este ejercicio realizaremos un **análisis de componentes principales (PCA)** para saber si podemos reducir el número de *features* del conjunto de datos. \n",
    "\n",
    "(a) Crea un modelo de la clase [`PCA`](https://scikit-learn.org/stable/modules/generated/sklearn.decomposition.PCA.html) sin especificar el número de componentes a retener. Entrénalo con el *dataset* original y verifica que su número de componentes corresponde al número de *features* por imagen. <span style = \"font-family: Courier New; background-color: #ffcc5c; color: #000000; padding: 3px; \">EG</span> **(0.5 puntos)**\n",
    "\n",
    "(b) Consulta la [documentación](https://scikit-learn.org/stable/modules/generated/sklearn.decomposition.PCA.html) para conocer el detalle de los atributos de la clase y responde a las preguntas siguientes. ¿Cuántas componentes son necesarias para explicar como mínimo el 80% de la varianza del conjunto de datos inicial? ¿Cuántas dimensiones podríamos reducir sin perder información? <span style = \"font-family: Courier New; background-color: #ffcc5c; color: #000000; padding: 3px; \">EG</span> **(0.5 puntos)**"
   ]
  },
  {
   "cell_type": "code",
   "execution_count": 3,
   "metadata": {},
   "outputs": [],
   "source": [
    "# Respuesta"
   ]
  },
  {
   "cell_type": "markdown",
   "metadata": {},
   "source": [
    "## Ejercicio 4\n",
    "\n",
    "En este ejercicio, nos basaremos en una técnica de **aprendizaje supervisado** para reconocer imágenes de dígitos manuscritos. Para ello utilizaremos un modelo de **regresión logística** (`LogisticRegression`) disponible desde la librería de `sklearn`: https://scikit-learn.org/stable/modules/generated/sklearn.linear_model.LogisticRegression.html\n",
    "\n",
    "(a) ¿El reconocimiento de imágenes de dígitos es un problema de regresión o un problema de clasificación?  <span style = \"font-family: Courier New; background-color: #f2ae72; color: #000000; padding: 3px;\">EI</span> **(0.25 puntos)**\n",
    "\n",
    "(b) ¿Podemos utilizar un modelo de regresión logística para el reconocimiento de más de dos clases distintas (10 dígitos)? Justifica brevemente tu respuesta. <span style = \"font-family: Courier New; background-color: #f2ae72; color: #000000; padding: 3px;\">EI</span> **(0.25 puntos)**\n",
    "\n",
    "(c) Utiliza la función [`train_test_split`](https://scikit-learn.org/stable/modules/generated/sklearn.model_selection.train_test_split.html) para seleccionar el conjunto de datos que servirán para la fase de entrenamiento (***training***) y para la fase de evaluación (***test***). Coged, por ejemplo, 20% del total de muestras para el *test*. A continuación, podéis crear el modelo de [`LogisticRegression`](https://scikit-learn.org/stable/modules/generated/sklearn.linear_model.LogisticRegression.html) (se aconseja pasar como argumento el *solver* `'newton-cg'`) y entrenarlo. Mostrad por pantalla el nivel de exactitud (*accuracy*) obtenida cuando se aplica el modelo sobre el conjunto de *test*. Recuerda que el mismo modelo dispone de la función `score` para el cálculo de la exactitud. <span style = \"font-family: Courier New; background-color: #ffcc5c; color: #000000; padding: 3px; \">EG</span> **(0.5 puntos)**\n",
    "\n",
    "(d) Fíjate que el *score* cambia cada vez que ejecutas el código. Las muestras escogidas en el conjunto de datos de *training* y de *test* no son siempre las mismas. Haz una **validación cruzada** del modelo con la función [`cross_val_score`](https://scikit-learn.org/stable/modules/generated/sklearn.model_selection.cross_val_score.html) siguiendo un método *k-Fold* ([`KFold`](https://scikit-learn.org/stable/modules/generated/sklearn.model_selection.KFold.html)) con k=5 y `shuffle=True`. Muestra por pantalla la media de los scores obtenidos y su desviación típica. <span style = \"font-family: Courier New; background-color: #ffcc5c; color: #000000; padding: 3px; \">EG</span> **(1.0 puntos)**\n",
    "\n",
    "(e) Siguiendo los pasos del ejercicio 3, realiza de nuevo los apartados (c) y (d) anteriores pero, esta vez, entrena y testea el modelo con un conjunto de datos reducido. Utiliza un PCA correspondiente a una varianza explicada del 80% y muestra por pantalla el nuevo score medio. ¿A qué conclusión llegas? <span style = \"font-family: Courier New; background-color: #ffcc5c; color: #000000; padding: 3px; \">EG</span> **(1.0 puntos)**"
   ]
  },
  {
   "cell_type": "code",
   "execution_count": 4,
   "metadata": {},
   "outputs": [],
   "source": [
    "# Respuesta"
   ]
  },
  {
   "cell_type": "markdown",
   "metadata": {},
   "source": [
    "## Ejercicio 5\n",
    "En este ejercicio, nos planteamos si podríamos reconocer todos los dígitos de manera **no supervisada** agrupando los dígitos por ***clusters***. \n",
    "\n",
    "(a) Comenta el código siguiente y muestra por pantalla el nivel de exactitud (*accuracy*) del modelo ***K-means*** considerado. <span style=\"font-family: Courier New; background-color: #82b74b; color: #000000; padding: 2px; \">NM</span> **(1.0 puntos)**\n",
    "```python\n",
    "from sklearn.cluster import KMeans\n",
    "\n",
    "kmeans = KMeans(n_clusters=10, random_state=0)\n",
    "digit_clusters = kmeans.fit_predict(digits.data)\n",
    "\n",
    "consistent_labels = np.zeros(len(digit_clusters))\n",
    "for l in set(kmeans.labels_):\n",
    "    if int(l) > -1:\n",
    "        ind = (clusters == int(l))\n",
    "        consistent_labels[ind] = digits.target.loc[ind].mode()\n",
    "    else:\n",
    "        print('Algunas imágenes no se han podido clusterizar.')\n",
    "```\n",
    "\n",
    "(b) ¿Para qué sirve una **matriz de confusión**? Visualiza la matriz de confusión asociada al resultado del apartado anterior. Para ello, puedes utilizar la clase `ConfusionMatrixDisplay` de `sklearn` cuya documentación encontraréis en el siguiente enlance: https://scikit-learn.org/stable/modules/generated/sklearn.metrics.ConfusionMatrixDisplay.html. <span style = \"font-family: Courier New; background-color: #ffcc5c; color: #000000; padding: 3px; \">EG</span> **(0.5 puntos)**\n",
    "\n",
    "(c) Observando la matriz de confusión, ¿sabrías decir qué dígito presenta un mayor número de errores? Visualiza los centroides asociados a cada cluster y justifícalo de manera cualitativa. <span style=\"font-family: Courier New; background-color: #82b74b; color: #000000; padding: 2px; \">NM</span> **(1.0 puntos)**\n",
    "\n",
    "(d) En los ejercicios anteriores, hemos utilizado el PCA como técnica para reducir las dimensiones de un dataset. En este apartado, vamos a probar una técnica distinta, el t-SNE (*t-distributed stochastic neighbor embedding*), un potente algoritmo desarrollado para la visualización de datos que permite reducir un dataset de gran dimensión a un dataset de 2 a 3 dimensiones. Utiliza la clase `TSNE` de `sklearn` (https://scikit-learn.org/stable/modules/generated/sklearn.manifold.TSNE.html) para reducir el conjunto de datos inicial y calcula el *score* de *accuracy* sobre el dataset reducido. ¿Hemos conseguido mejorar la *accuracy* del modelo? <span style = \"font-family: Courier New; background-color: #ffcc5c; color: #000000; padding: 3px; \">EG</span> **(opcional)**"
   ]
  },
  {
   "cell_type": "code",
   "execution_count": 5,
   "metadata": {},
   "outputs": [],
   "source": [
    "# Respuesta"
   ]
  }
 ],
 "metadata": {
  "kernelspec": {
   "display_name": "Python 3",
   "language": "python",
   "name": "python3"
  },
  "language_info": {
   "codemirror_mode": {
    "name": "ipython",
    "version": 3
   },
   "file_extension": ".py",
   "mimetype": "text/x-python",
   "name": "python",
   "nbconvert_exporter": "python",
   "pygments_lexer": "ipython3",
   "version": "3.8.5"
  }
 },
 "nbformat": 4,
 "nbformat_minor": 2
}
