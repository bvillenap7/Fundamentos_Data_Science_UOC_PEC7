{
 "metadata": {
  "name": "",
  "signature": "sha256:7188f4de5178cf170de5f161bea4702e327824a628efc38d8bf0023835945ea3"
 },
 "nbformat": 3,
 "nbformat_minor": 0,
 "worksheets": [
  {
   "cells": [
    {
     "cell_type": "heading",
     "level": 1,
     "metadata": {},
     "source": [
      "Programaci\u00f3n para Data Science"
     ]
    },
    {
     "cell_type": "markdown",
     "metadata": {},
     "source": [
      "Unidad 7: An\u00e1lisis de datos en Python - Ejercicios y preguntas\n",
      "------------------------------------------------------"
     ]
    },
    {
     "cell_type": "markdown",
     "metadata": {},
     "source": [
      "## Ejercicio 0\n",
      "\n",
      "Cargad el conjunto de datos Iris incorporado en la librer\u00eda `sklearn`."
     ]
    },
    {
     "cell_type": "code",
     "collapsed": false,
     "input": [
      "# Respuesta\n"
     ],
     "language": "python",
     "metadata": {},
     "outputs": [],
     "prompt_number": 1
    },
    {
     "cell_type": "markdown",
     "metadata": {},
     "source": [
      "## Ejercicio 1\n",
      "\n",
      "Mostrad el nombre de los targets del dataset, el nombre de los atributos y los datos.\n"
     ]
    },
    {
     "cell_type": "code",
     "collapsed": false,
     "input": [
      "# Respuesta\n"
     ],
     "language": "python",
     "metadata": {},
     "outputs": [],
     "prompt_number": 1
    },
    {
     "cell_type": "markdown",
     "metadata": {},
     "source": [
      "## Ejercicio 2\n",
      "\n",
      "Representad gr\u00e1ficamente en un _scatter plot_ la longitud versus el ancho de los p\u00e9talos.\n",
      "\n",
      "Nota: Para poder incluir acentos en los textos de las etiquetas o del t\u00edtulo del plot, es necesario indicar expl\u00edcitamente que las cadenas de caracteres son *unicode*. Pod\u00e9is hacerlo incluyendo una `u` delante de las comillas que delimitan la cadena de caracteres."
     ]
    },
    {
     "cell_type": "code",
     "collapsed": false,
     "input": [
      "# Ejemplo de cadena de caracateres unicode especificada expl\u00edcitamente\n",
      "print u\"p\u00e9talo\""
     ],
     "language": "python",
     "metadata": {},
     "outputs": [
      {
       "output_type": "stream",
       "stream": "stdout",
       "text": [
        "p\u00e9talo\n"
       ]
      }
     ],
     "prompt_number": 14
    },
    {
     "cell_type": "code",
     "collapsed": false,
     "input": [
      "# Respuesta\n"
     ],
     "language": "python",
     "metadata": {},
     "outputs": [],
     "prompt_number": 2
    },
    {
     "cell_type": "markdown",
     "metadata": {},
     "source": [
      "## Pregunta 1\n",
      "\n",
      "\u00bfQue es un _box plot_? \u00bfQu\u00e9 informaci\u00f3n podemos extraer del _box plot_ mostrado en el notebook de explicaci\u00f3n?"
     ]
    },
    {
     "cell_type": "markdown",
     "metadata": {},
     "source": [
      "#### Respuesta:\n"
     ]
    },
    {
     "cell_type": "markdown",
     "metadata": {},
     "source": [
      "## Pregunta 2\n",
      "\n",
      "En el notebook de explicaci\u00f3n hemos utilizado un clasificador _k nearest neighbors_. Describe a grandes rasgos c\u00f3mo funciona este clasificador."
     ]
    },
    {
     "cell_type": "markdown",
     "metadata": {},
     "source": [
      "#### Respuesta:\n"
     ]
    },
    {
     "cell_type": "markdown",
     "metadata": {},
     "source": [
      "## Pregunta 3\n",
      "\n",
      "Ejecuta el c\u00f3digo del clasificador _k nearest neighbors_ del notebook de explicaci\u00f3n varias veces. \u00bfEl resultado es siempre el mismo? \u00bfPor qu\u00e9?"
     ]
    },
    {
     "cell_type": "markdown",
     "metadata": {},
     "source": [
      "#### Respuesta:\n"
     ]
    },
    {
     "cell_type": "markdown",
     "metadata": {},
     "source": [
      "## Pregunta 4\n",
      "\n",
      "Para visualizar el modelo del clasificador en el notebook de explicaci\u00f3n hemos usado la funci\u00f3n `meshgrid`. Explica qu\u00e9 hace esta funci\u00f3n y para qu\u00e9 la hemos usado."
     ]
    },
    {
     "cell_type": "markdown",
     "metadata": {},
     "source": [
      "#### Respuesta:\n"
     ]
    },
    {
     "cell_type": "markdown",
     "metadata": {},
     "source": [
      "## Ejercicio 3\n",
      "\n",
      "Visualiza gr\u00e1ficamente el clasificador _KNeighborsClassifier_ aprendido (para cualquier partici\u00f3n de muestras de aprendizaje y test), mostrando tanto las muestras usadas para el aprendizaje como las muestras utilizadas para el test. Utiliza colores para mostrar la clase a la que pertenecen (`target`) las muestras de aprendizaje y las de test.\n",
      "\n",
      "Pista: puedes utilizar el c\u00f3digo que hemos visto en el notebook de explicaci\u00f3n, a\u00f1adiendo una l\u00ednea que permita visualizar las muestras de test y cambiando el marcador para diferenciarlas de las muestras de aprendizaje."
     ]
    },
    {
     "cell_type": "code",
     "collapsed": false,
     "input": [
      "# Respuesta\n"
     ],
     "language": "python",
     "metadata": {},
     "outputs": [],
     "prompt_number": 3
    },
    {
     "cell_type": "markdown",
     "metadata": {},
     "source": [
      "## Pregunta 5\n",
      "\n",
      "Considerando la visualizaci\u00f3n generada en el ejercicio anterior, \u00bfqu\u00e9 muestras se encuentran mal clasificadas?"
     ]
    },
    {
     "cell_type": "markdown",
     "metadata": {},
     "source": [
      "#### Respuesta:\n"
     ]
    },
    {
     "cell_type": "markdown",
     "metadata": {},
     "source": [
      "## Pregunta 6\n",
      "\n",
      "Decimos que un m\u00e9todo de validaci\u00f3n cruzada es exhaustivo si entrena y aprende con todas las posibles maneras de dividir el conjunto de aprendizaje. \n",
      "\n",
      "\u00bfEs exhaustivo el m\u00e9todo _KFold_ utilizado en el notebook de explicaci\u00f3n? \u00bfY el m\u00e9todo _leave one out_?"
     ]
    },
    {
     "cell_type": "markdown",
     "metadata": {},
     "source": [
      "#### Respuesta:\n"
     ]
    }
   ],
   "metadata": {}
  }
 ]
}