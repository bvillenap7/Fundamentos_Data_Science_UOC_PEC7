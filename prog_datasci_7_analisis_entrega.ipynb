{
 "cells": [
  {
   "cell_type": "markdown",
   "source": [
    "<div style=\"width: 100%; clear: both;\">\n",
    "    <div style=\"float: left; width: 50%;\">\n",
    "       <img src=\"http://www.uoc.edu/portal/_resources/common/imatges/marca_UOC/UOC_Masterbrand.jpg\", align=\"left\">\n",
    "    </div>\n",
    "</div>\n",
    "\n",
    "<div style=\"float: right; width: 50%;\">\n",
    "    <p style=\"margin: 0; padding-top: 22px; text-align:right;\">22.501 · Fundamentos de Programación</p>\n",
    "    <p style=\"margin: 0; text-align:right;\">Grado en Ciencia de Datos Aplicada</p>\n",
    "    <p style=\"margin: 0; text-align:right; padding-button: 100px;\">Estudios de Informática, Multimedia y Telecomunicación</p>\n",
    "</div>\n",
    "</div>\n",
    "<div style=\"width: 100%; clear: both;\">\n",
    "<div style=\"width:100%;\">&nbsp;</div>"
   ],
   "metadata": {}
  },
  {
   "cell_type": "markdown",
   "source": [
    "Fundamentos de Programación\n",
    "============================\n",
    "\n",
    "PEC 7 - Solución\n",
    "-----------------------------------------------------\n",
    "\n",
    "A continuación, encontraréis la solución a los ejercicios de esta PEC.\n",
    "\n",
    "Recordad, que como en PECs anteriores, pueden existir otras maneras de resolver los ejercicios, también válidas (y que también permiten obtener la máxima puntuación de los mismos).\n",
    "\n",
    "---"
   ],
   "metadata": {}
  },
  {
   "cell_type": "markdown",
   "source": [
    "### Ejercicio 1\n",
    "\n",
    "En las etiquetas y en los envases de los alimentos que consumimos habitualmente es muy común encontrar su composición. Algunos alimentos son mas ricos en grasas, azucares,... En la web  https://www.matportalen.no/verktoy/the_norwegian_food_composition_table/ podemos obtener una tabla muy completa de la composición de diferentes alimentos. Os proporcionamos un extracto en el fichero `Composition3.csv`.\n",
    "\n",
    "Estos alimentos están categorizados en diferentes grupos que podemos encontrar en la columna `Category`. En este primer ejercicio os proponemos hacer un primer análisis de esta tabla. **(3.5 puntos)**\n",
    "\n",
    "a) Carga la tabla en un dataframe. Recuerda de tener en cuenta los separadores decimales, y la codificación del fichero. Muestra los primeros 5 elementos y comprueba que las columnas generados son correctas. Si hay alguna que no lo es correcta, borrala. <span style=\"font-family: Courier New; background-color: #82b74b; color: #000000; padding: 3px; \">NM</span> **(0.5 puntos)** \n"
   ],
   "metadata": {}
  },
  {
   "cell_type": "code",
   "execution_count": 17,
   "source": [
    "# Respuesta"
   ],
   "outputs": [],
   "metadata": {}
  },
  {
   "cell_type": "markdown",
   "source": [
    "b) Muestra el número de alimentos (filas), elimina las filas que tengan un elemento vacío en alguna de sus columnas, y vuelve a contarlas. <span style=\"font-family: Courier New; background-color: #82b74b; color: #000000; padding: 3px; \">NM</span> **(1 punto)** "
   ],
   "metadata": {}
  },
  {
   "cell_type": "code",
   "execution_count": 18,
   "source": [
    "# Respuesta"
   ],
   "outputs": [],
   "metadata": {}
  },
  {
   "cell_type": "markdown",
   "source": [
    "c) Hay filas con el valor `M` en alguna de sus columnas. Substituye estas `M` por el valor especial de numpy `NaN`. Una vez realizado este paso, comprueba el tipo de cada columna. Todas deberían ser de tipo numérico a excepción del nombre del alimento y su categoría.\r\n",
    "Si no es así, convierte lo que haga falta, estando atento a los separadores decimales. \r\n",
    "Después de realizar este paso, haz una gráfica que permita ver el rango de todos los atributos. <span style=\"font-family: Courier New; background-color: #82b74b; color: #000000; padding: 3px; \">NM</span> **(1 punto)** "
   ],
   "metadata": {}
  },
  {
   "cell_type": "code",
   "execution_count": 19,
   "source": [
    "# Respuesta"
   ],
   "outputs": [],
   "metadata": {}
  },
  {
   "cell_type": "markdown",
   "source": [
    "d) Haz una PCA de 2 componentes de la composición, y muestra los componentes y la varianza explicada de cada uno de ellos. ¿ Que quieren decir los valores obtenidos? <span style=\"font-family: Courier New; background-color: #82b74b; color: #000000; padding: 3px; \">NM</span> **(1 punto)** "
   ],
   "metadata": {}
  },
  {
   "cell_type": "code",
   "execution_count": 20,
   "source": [
    "# Respuesta"
   ],
   "outputs": [],
   "metadata": {}
  },
  {
   "cell_type": "markdown",
   "source": [
    "e) Muestra una gráfica donde podamos ver como evoluciona la variabilidad explicada, a medida que vamos incrementando hasta 10 componentes. ¿Tiene sentido hacer una reducción a tantos componentes? **(Opcional)**"
   ],
   "metadata": {}
  },
  {
   "cell_type": "code",
   "execution_count": 21,
   "source": [
    "# Respuesta"
   ],
   "outputs": [],
   "metadata": {}
  },
  {
   "cell_type": "markdown",
   "source": [
    "### Ejercicio 2"
   ],
   "metadata": {}
  },
  {
   "cell_type": "markdown",
   "source": [
    "En este ejercicio nos gustaría ver si podemos agrupar los alimentos en grupos diferentes según sus características de una manera `no supervisada`. Con esa finalidad, utilizaremos el método `KMeans` que hemos visto en la teoría. **(3 puntos)** \r\n",
    "\r\n",
    "a) Antes de aplicar el KMeans, normaliza los datos utilizando la función `MinMaxScaler`. ¿ Por que razón es importante hacer esta transformación? <span style=\"font-family: Courier New; background-color: #82b74b; color: #000000; padding: 3px; \">NM</span> **(1 punto)**\r\n",
    "\r\n"
   ],
   "metadata": {}
  },
  {
   "cell_type": "code",
   "execution_count": 22,
   "source": [
    "# Respuesta "
   ],
   "outputs": [],
   "metadata": {}
  },
  {
   "cell_type": "markdown",
   "source": [
    "b) Uno de los problemas de los métodos no supervisados es identificar el número óptimo de clusters. Para poder estimar esta número óptimo, se utiliza frecuentemente `el método de Elbow`. Busca información sobre este método y utilízalo. ¿ Cual es el número óptimo de clusters? <span style=\"font-family: Courier New; background-color: #f2ae72; color: #000000; padding: 3px; \">EI</span> **(1 punto)** "
   ],
   "metadata": {}
  },
  {
   "cell_type": "code",
   "execution_count": 23,
   "source": [
    "# Respuesta "
   ],
   "outputs": [],
   "metadata": {}
  },
  {
   "cell_type": "markdown",
   "source": [
    "c) Aplica el método KMeans especificando el número óptimo de clusters obtenido en el apartado anterior. Compara las agrupaciones obtenidas con la categoría de la columna `Category`. Podemos encontrar alguna relación entre el clustering del KMeans y les categorias (Cereals, Vegetables, Meat, etc) de la base? <span style=\"font-family: Courier New; background-color: #82b74b; color: #000000; padding: 3px; \">NM</span> **(1 punto)** "
   ],
   "metadata": {}
  },
  {
   "cell_type": "code",
   "execution_count": 24,
   "source": [
    "# Respuesta "
   ],
   "outputs": [],
   "metadata": {}
  },
  {
   "cell_type": "markdown",
   "source": [
    "### Ejercicio 3"
   ],
   "metadata": {}
  },
  {
   "cell_type": "markdown",
   "source": [
    "En los siguientes ejercicios trabajaremos con el dataset `titanic_edited.csv`. Este conjunto de datos contiene información sobre los pasajeros del barco Titánic (edad, sexo, clase, tipo cabina, etc), y si sobrevivieron o no. El conjunto original se puede encontrar en la web de [Kaggle](https://www.kaggle.com/c/titanic), pero el conjunto que vamos a utilizar tiene alguna modificación.**(3.5 puntos)** \r\n"
   ],
   "metadata": {}
  },
  {
   "cell_type": "markdown",
   "source": [
    "(a) Si nuestro objetivo es realizar un modelo que nos permita determinar si, dadas unas características, el pasajero sobrevivirá o no, ¿nos encontramos ante un problema de clasificación o de regresión? <span style=\"font-family: Courier New; background-color: #82b74b; color: #000000; padding: 3px; \">NM</span>**(0.5 puntos)**"
   ],
   "metadata": {}
  },
  {
   "cell_type": "code",
   "execution_count": 25,
   "source": [
    "# Respuesta"
   ],
   "outputs": [],
   "metadata": {}
  },
  {
   "cell_type": "markdown",
   "source": [
    "(b) Explora el dataset: ¿Qué variables crees que pueden ser relevantes en la supervivencia de los pasajeros? Razona la respuesta. Haz una matriz de [correlación](https://pandas.pydata.org/docs/reference/api/pandas.DataFrame.corr.html) de las variables para encontrar relaciones relevantes entre sí. <span style=\"font-family: Courier New; background-color: #82b74b; color: #000000; padding: 3px; \">NM</span>**(0.5 puntos)**"
   ],
   "metadata": {}
  },
  {
   "cell_type": "code",
   "execution_count": 26,
   "source": [
    "# Respuesta"
   ],
   "outputs": [],
   "metadata": {}
  },
  {
   "cell_type": "markdown",
   "source": [
    "(c) Basándonos en la teoría de la anterior unidad de preprocesamiento (unidad 6), sigue los siguientes pasos: \r\n",
    "(1) Comprueba si existen variables con valores perdidos y, en caso de existir, elimínalas.\r\n",
    "(2) Algunas variables son categóricas y otras numéricas. ¿Tienes que hacer alguna transformación para poder trabajar con ellas?\r\n",
    "<span style=\"font-family: Courier New; background-color: #82b74b; color: #000000; padding: 3px; \">NM</span>**(1 punto)**"
   ],
   "metadata": {}
  },
  {
   "cell_type": "code",
   "execution_count": 27,
   "source": [
    "# Respuesta"
   ],
   "outputs": [],
   "metadata": {}
  },
  {
   "cell_type": "markdown",
   "source": [
    "(d) ¿Se puede hacer un modelo preciso con la información proporcionada para predecir si los pasajeros sobrevivirán o no? Explora la función [RandomForestClassifier](https://scikit-learn.org/stable/modules/generated/sklearn.ensemble.RandomForestClassifier.html). Recuerda separar el conjunto de datos en una parte de entrenamiento (training, 80%) y una parte de evaluación (test, 20%). <span style=\"font-family: Courier New; background-color: #ffcc5c; color: #000000; padding: 2px; \">EG</span> **(0.5 puntos)**"
   ],
   "metadata": {}
  },
  {
   "cell_type": "code",
   "execution_count": 28,
   "source": [
    "# Respuesta"
   ],
   "outputs": [],
   "metadata": {}
  },
  {
   "cell_type": "markdown",
   "source": [
    "(e) ¿Qué variables son más importantes para el modelo? Explora el método `feature_importances_` de la función `RandomForestClassifier`. <span style=\"font-family: Courier New; background-color: #ffcc5c; color: #000000; padding: 2px; \">EG</span> **(1 punto)**"
   ],
   "metadata": {}
  },
  {
   "cell_type": "code",
   "execution_count": 29,
   "source": [
    "# Respuesta"
   ],
   "outputs": [],
   "metadata": {}
  },
  {
   "cell_type": "markdown",
   "source": [
    "(f) **(Opcional)** En los apartados anteriores hemos visto la importancia de separar nuestro dataset en el subconjunto de entrenamiento y evaluación. Sin embargo, no podemos asegurar que nuestro modelo sea muy generalizable ya que sólo lo hemos probado por una partición de train/test concreta. Para mejorar la validación de nuestro modelo, podemos utilizar lo que se conoce como **validación cruzada**.\n",
    "(1) Busca información sobre el método k-Fold y explica en qué consiste. (2) A continuación aplica un k-Fold con k=10. ¿Podemos concluir que nuestro modelo es bueno para predecir la supervivencia de los pasajeros?  <span style=\"font-family: Courier New; background-color: #ffcc5c; color: #000000; padding: 2px; \">EG</span>"
   ],
   "metadata": {}
  },
  {
   "cell_type": "code",
   "execution_count": 30,
   "source": [
    "# Respuesta"
   ],
   "outputs": [],
   "metadata": {}
  }
 ],
 "metadata": {
  "interpreter": {
   "hash": "e404b59586357c814bc0d3940e75d6763c00a48753b225b81f7716971b8e1741"
  },
  "kernelspec": {
   "name": "python3",
   "display_name": "Python 3.8.5 64-bit"
  },
  "language_info": {
   "codemirror_mode": {
    "name": "ipython",
    "version": 3
   },
   "file_extension": ".py",
   "mimetype": "text/x-python",
   "name": "python",
   "nbconvert_exporter": "python",
   "pygments_lexer": "ipython3",
   "version": "3.8.5"
  }
 },
 "nbformat": 4,
 "nbformat_minor": 4
}