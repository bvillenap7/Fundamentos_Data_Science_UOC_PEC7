{
 "cells": [
  {
   "cell_type": "markdown",
   "metadata": {},
   "source": [
    "<div style=\"width: 100%; clear: both;\">\n",
    "    <div style=\"float: left; width: 50%;\">\n",
    "       <img src=\"http://www.uoc.edu/portal/_resources/common/imatges/marca_UOC/UOC_Masterbrand.jpg\", align=\"left\">\n",
    "    </div>\n",
    "</div>\n",
    "\n",
    "<div style=\"float: right; width: 50%;\">\n",
    "    <p style=\"margin: 0; padding-top: 22px; text-align:right;\">22.401 · Fonaments de Programació</p>\n",
    "    <p style=\"margin: 0; text-align:right;\">Grau en Ciència de Dades Aplicada</p>\n",
    "    <p style=\"margin: 0; text-align:right; padding-button: 100px;\">Estudis d'Informàtica, Multimèdia i Telecomunicació</p>\n",
    "</div>\n",
    "\n",
    "</div>\n",
    "<div style=\"width: 100%; clear: both;\">\n",
    "<div style=\"width:100%;\">&nbsp;</div>"
   ]
  },
  {
   "cell_type": "markdown",
   "metadata": {},
   "source": [
    "Programación para *Data Science*\n",
    "============================\n",
    "\n",
    "PEC 7 - Introducción al análisis de datos en Python\n",
    "-----------------------------------------------------\n",
    "\n",
    "En este Notebook encontraréis el conjunto de actividades evaluables como PEC de la asignatura. Veréis que cada una de ellas tiene asociada una puntuación, que indica el peso que tiene la actividad sobre la nota final de la PEC. Adicionalmente, hay un ejercicio opcional, que no tiene puntuación dentro de la PEC, pero que se valora al final del semestre de cara a conceder las matrículas de honor y redondear las notas finales. Podréis sacar la máxima nota de la PAC sin necesidad de hacer este ejercicio. El objetivo de este ejercicio es que sirva como pequeño reto para los estudiantes que quieran profundizar en el contenido de la asignatura.\n",
    "\n",
    "Veréis que todas las actividades de la PEC tienen una etiqueta, que indica los recursos necesarios para llevarla a cabo. Hay tres posibles etiquetas:\n",
    "\n",
    "* <span style=\"font-family: Courier New; background-color: #82b74b; color: #000000; padding: 3px; \">NM</span> **Sólo materiales**: las herramientas necesarias para realizar la actividad se pueden encontrar en los materiales de la asignatura.\n",
    "\n",
    "* <span style = \"font-family: Courier New; background-color: #ffcc5c; color: #000000; padding: 3px; \">EG</span> **Consulta externa guiada**: la actividad puede requerir hacer uso de herramientas que no se encuentran en los materiales de la asignatura, pero el enunciado contiene indicaciones de dónde o cómo encontrar la información adicional necesaria para resolver la actividad.\n",
    "\n",
    "* <span style = \"font-family: Courier New; background-color: #f2ae72; color: #000000; padding: 3px;\">EI</span> **Consulta externa independiente**: la actividad puede requerir hacer uso de herramientas que no se encuentran en los materiales de la asignatura, y el enunciado puede no incluir la descripción de dónde o cómo encontrar esta información adicional. Será necesario que el estudiante busque esta información utilizando los recursos que se han explicado en la asignatura.\n",
    "\n",
    "Es importante notar que estas etiquetas no indican el nivel de dificultad del ejercicio, sino únicamente la necesidad de consulta de documentación externa para su resolución. Además, recordad que las **etiquetas son informativas**, pero podréis consultar referencias externas en cualquier momento (aunque no se indique explícitamente) o puede ser que podáis hacer una actividad sin consultar ningún tipo de documentación. Por ejemplo, para resolver una actividad que sólo requiera los materiales de la asignatura, puedéis consultar referencias externas si queréis, ya sea tanto para ayudaros en la resolución como para ampliar el conocimiento!\n",
    "\n",
    "En cuanto a la consulta de documentación externa en la resolución de los ejercicios, recordad **citar siempre la bibliografía utilizada** para resolver cada actividad.\n",
    "\n",
    "---"
   ]
  },
  {
   "cell_type": "markdown",
   "metadata": {},
   "source": [
    "## Ejercicio 1\n",
    "\n",
    "Estudia el siguiente código y descríbe paso a paso su funcionamiento. **(0.5 puntos)** <span style=\"font-family: Courier New; background-color: #82b74b; color: #000000; padding: 3px; \">NM</span>"
   ]
  },
  {
   "cell_type": "markdown",
   "metadata": {},
   "source": [
    "import numpy as np <br>\n",
    "data = np.vstack([ages, weight, children, gross, properties ]).T <br>\n",
    "<br>\n",
    "data_normalised = (data - data.mean(axis=0) )/ data.std(axis=0) <br>\n",
    "<br>\n",
    "pca = PCA(n_components=2) <br>\n",
    "pca.fit(data_normalised) <br>\n",
    "print(pca.explained_variance_ratio_) <br>\n",
    "print(pca.singular_values_) <br>\n",
    "<br>\n",
    "transformed_data = pca.transform(data_normalised) <br>\n",
    "<br>\n",
    "plt.scatter( transformed_data[:,0], transformed_data[:,1], c=corporative_job, cmap='jet') <br>\n",
    "plt.xlabel('PCA 1') <br>\n",
    "plt.ylabel('PCA 2') <br>"
   ]
  },
  {
   "cell_type": "markdown",
   "metadata": {},
   "source": [
    "#### Respuesta \n"
   ]
  },
  {
   "cell_type": "markdown",
   "metadata": {},
   "source": [
    "## Ejercicio 2\n",
    "\n",
    "Carga el conjunto de datos [diabetes](https://scikit-learn.org/stable/modules/generated/sklearn.datasets.load_diabetes.html) incorporado en la librería `sklearn`. \n",
    "\n",
    "En este conjunto de datos, hay registros de pacientes con diferentes características que se relacionan con la diabetes, así como el diagnóstico de cada uno. La variable objetivo `target` es una medida cuantitativa de la progresión de la enfermedad un año después del inicio.\n",
    "\n",
    "1.1) Crea un dataframe, incluyendo una columna con el nombre *progresion*, que indique la progressión de la enfermedad del paciente, es decir la variable `target`. El resto de columnas corresponderán con las características o `feature_names`. \n",
    "\n",
    "1.2) Crea una tabla con los estadísticos descriptivos de todas las características de los pacientes de la base de datos `diabetes` agrupados por tipo: deterioro severo (progressión de la diabetes por encima de la mediana del conjunto), deterioro moderado (progressión de la diabetes por debajo o igual a la mediana del conjunto). Los estadísticos descriptivos deben incluir la media, la desviación típica, el mínimo, el máximo, la mediana, el percentil 25 y el percentil 75.\n",
    "\n",
    "1.3) Una vez hecho esto, tendréis que representar gráficamente los datos de 'edad', y 'bmi', por tipo de deterioro (severo o moderado) utilizando un diagrama de barras que represente la media y una barra de error correspondiente con el [error estándar](https://pandas.pydata.org/pandas-docs/stable/reference/api/pandas.DataFrame.sem.html).\n",
    "\n",
    "1.4.) Explora la documentación del [dataset Diabetes](https://scikit-learn.org/stable/datasets/index.html#diabetes-dataset) y explica por qué crees que los valores de edad son tan pequeños.\n",
    "\n",
    "**(2 puntos)** <span style=\"font-family: Courier New; background-color: #82b74b; color: #000000; padding: 3px; \">NM</span>\n",
    "\n",
    "\n"
   ]
  },
  {
   "cell_type": "code",
   "execution_count": null,
   "metadata": {},
   "outputs": [],
   "source": [
    "# Respuesta \n"
   ]
  },
  {
   "cell_type": "markdown",
   "metadata": {},
   "source": [
    "## Ejercicio 3\n",
    "\n",
    "Ahora que tenéis el conjunto de datos organizados, trazad la distribución de las características \"edad\", \"sexo\" y \"bmi\". Para ello podéis utilizar histogramas como vimos en el Notebook de teoría o podéis elegir utilizar un [diagrama de violín de la librería Matplotlib](https://matplotlib.org/3.3.1/api/_as_gen/matplotlib.axes.Axes.violinplot.html). Aseguraos de mostrar una sola figura con múltiples paneles, dedicando un panel a cada característica de los pacientes (ej. edad). **(1 punto)** <span style=\"font-family: Courier New; background-color: #82b74b; color: #000000; padding: 3px; \">NM</span>"
   ]
  },
  {
   "cell_type": "code",
   "execution_count": null,
   "metadata": {},
   "outputs": [],
   "source": [
    "# Respuesta\n",
    "\n"
   ]
  },
  {
   "cell_type": "markdown",
   "metadata": {},
   "source": [
    "## Ejercicio 4\n",
    "\n",
    "\n",
    "Dado este conjunto de datos, en un hospital nos piden explorar qué tres características podrían ser los factores más relevantes para la mala recuperación de pacientes con diabetes.\n",
    "\n",
    "1) La correlación nos permite estudiar la relación entre dos variables y Pandas nos ofrece una función para calcular correlaciones de forma sencilla, se trata del método [corr()](https://pandas.pydata.org/pandas-docs/stable/reference/api/pandas.DataFrame.corr.html). Muestra el resultado en una [matriz de correlaciones o correlograma](https://es.wikipedia.org/wiki/Matriz_de_correlaci%C3%B3n) que represente gráficamente la correlación de las características de los pacientes de diabetes entre ellas, así como su correlación con la variable target. Indica cuáles son las tres características más relevantes para la progresión de la enfermedad y justifica tu respuesta. **(1 punto)** \n",
    "\n",
    "**Nota**: Te puede ser útil la función [Pcolor de Matplotlib]( https://matplotlib.org/3.1.1/api/_as_gen/matplotlib.pyplot.pcolor.html). Si representas el correlograma con una matriz de colores, no olvides mostrar la barra de color.\n",
    "\n",
    "2) ¿Sería posible utilizar una técnica de análisis de datos **no supervisada** para resolver este problema? ¿Por qué? **(0.5 puntos)**\n",
    "\n",
    "<span style=\"font-family: Courier New; background-color: #82b74b; color: #000000; padding: 3px; \">NM</span>"
   ]
  },
  {
   "cell_type": "code",
   "execution_count": null,
   "metadata": {
    "scrolled": false
   },
   "outputs": [],
   "source": [
    "# Respuesta\n",
    "\n"
   ]
  },
  {
   "cell_type": "markdown",
   "metadata": {},
   "source": [
    "#### Respuesta\n",
    "\n"
   ]
  },
  {
   "cell_type": "markdown",
   "metadata": {},
   "source": [
    "## Ejercicio 5\n",
    "\n",
    "En los ejercicios resueltos hemos visto como usar la regresión logística, y hemos hablado de **la regresión lineal múltiple**. \n",
    "\n",
    "En este ejercicio, tendréis que aplicar la regressión lineal múltiple para construir un modelo predictivo de deterioro en pacientes de diabetes según las características del conjunto de datos.\n",
    "\n",
    "- En primer lugar, tendréis que dividir los datos en conjuntos de entrenamiento (*training*) y evaluación (*test*), con un tamaño de la muestra para test del 33%.\n",
    " \n",
    "- A continuación, entrenad el modelo con la porción de datos para el entrenamiento y calculad la precisión del modelo. Escribid una breve explicación que indique lo que significa obtener tal precisión.\n",
    "\n",
    "**(2 puntos)** <span style = \"font-family: Courier New; background-color: #ffcc5c; color: #000000; padding: 3px; \">EG</span>"
   ]
  },
  {
   "cell_type": "code",
   "execution_count": null,
   "metadata": {},
   "outputs": [],
   "source": [
    "# Respuesta\n"
   ]
  },
  {
   "cell_type": "markdown",
   "metadata": {},
   "source": [
    "#### Respuesta\n",
    "\n"
   ]
  },
  {
   "cell_type": "markdown",
   "metadata": {},
   "source": [
    "## Ejercicio 6\n",
    "\n",
    "Realizad un test estadístico [ttest](https://docs.scipy.org/doc/scipy/reference/generated/scipy.stats.ttest_ind.html) para responder a la siguiente pregunta: ¿Los hombres diagnosticados con diabetes tienen más tendencia al deterioro que las mujeres?\n",
    "<br>\n",
    "Hipótesis Nula: Los hombres diagnosticados con diabetes no tienen una tendencia al deterioro diferente de la que muestran las mujeres. \n",
    "<br>\n",
    "Hipótesis Alternativa: Los hombres diagnosticados con diabetes tienen una tendencia diferente al deterioro que las mujeres.\n",
    "<br>\n",
    "Una vez realizado el test, interpreta los valores resultantes y elabora una respuesta. **(1 punto)** <span style = \"font-family: Courier New; background-color: #ffcc5c; color: #000000; padding: 3px; \">EG</span>\n",
    "\n",
    "**Nota:** Consulta este [enlace](http://www.conexionismo.com/leer_articulo.php?ref=prueba_t_de_student_para_la_comparacion_de_dos_muestras_independientes-j960497l) si quieres ampliar conocimientos sobre el test estadístico ttest. Para realizar el test estadístico automáticamente podéis utilizar el método [`ttest_ind`](https://docs.scipy.org/doc/scipy/reference/generated/scipy.stats.ttest_ind.html) de *Scipy.stats*"
   ]
  },
  {
   "cell_type": "code",
   "execution_count": null,
   "metadata": {},
   "outputs": [],
   "source": [
    "# Respuesta"
   ]
  },
  {
   "cell_type": "markdown",
   "metadata": {},
   "source": [
    "#### Respuesta\n",
    "\n"
   ]
  },
  {
   "cell_type": "markdown",
   "metadata": {},
   "source": [
    "## Ejercicio 7\n",
    "\n",
    "Aplicad un clasificador basado en un [árbol de decicisión](https://es.wikipedia.org/wiki/Árbol_de_decisión)\n",
    "de un máximo de 3 niveles de profundidad para predecir la progression de la diabetes (severa o moderada segun la categorías realizadas en el ejercicio 5) utilizando el sexo, la edad y el bmi como atributos y utilizando 60% de las muestras de entrenamiento y el 40% de test. Debéis utilizar la función [sklearn.tree.DecisionTreeClassifier](https://scikit-learn.org/stable/modules/generated/sklearn.tree.DecisionTreeClassifier.html).\n",
    "\n",
    "¿Qué valor de precisión obtenemos en un modelo basado en un árbol de decisión? Representa el árbol de decisión y expórtalo a un archivo PDF. \n",
    "\n",
    "**Nota:** Tal vez la función [tree](https://scikit-learn.org/stable/modules/tree.html) de _sklearn_ sea de utilidad. \n",
    "\n",
    "**(2 puntos)** <span style = \"font-family: Courier New; background-color: #f2ae72; color: #000000; padding: 3px;\">EI</span> "
   ]
  },
  {
   "cell_type": "code",
   "execution_count": null,
   "metadata": {},
   "outputs": [],
   "source": [
    "# Respuesta\n"
   ]
  },
  {
   "cell_type": "markdown",
   "metadata": {},
   "source": [
    "## Ejercicio Opcional\n",
    "\n",
    "En este ejercicio, asumiremos que sólo podemos usar 2 de las seguientes variables para predecir el deterioro del paciente: 'age', 'sex', 'bmi', 'bp', 's1', 's2', 's3', 's4', 's5', 's6'.\n",
    "\n",
    "Aplica un classificador *K-Nearest Neighbors* para predecir el tipo de paciente según \n",
    "su deterioro (pregresión severa o moderada) dadas solo 2 variables. Para encontrar que par de variables es más relevante para conseguir un mejor rendimiento del modelo, tendrás que evaluar tu clasificador para cada par de varibles.\n",
    "\n",
    "<span style=\"font-family: Courier New; background-color: #82b74b; color: #000000; padding: 3px; \">NM</span>"
   ]
  },
  {
   "cell_type": "code",
   "execution_count": null,
   "metadata": {},
   "outputs": [],
   "source": [
    "# Respuesta"
   ]
  }
 ],
 "metadata": {
  "kernelspec": {
   "display_name": "Python 3",
   "language": "python",
   "name": "python3"
  },
  "language_info": {
   "codemirror_mode": {
    "name": "ipython",
    "version": 3
   },
   "file_extension": ".py",
   "mimetype": "text/x-python",
   "name": "python",
   "nbconvert_exporter": "python",
   "pygments_lexer": "ipython3",
   "version": "3.7.4"
  }
 },
 "nbformat": 4,
 "nbformat_minor": 2
}
