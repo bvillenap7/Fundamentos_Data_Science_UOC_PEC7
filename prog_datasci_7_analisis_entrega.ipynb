{
 "metadata": {
  "name": "",
  "signature": "sha256:de94d9094eeefe3f47b835da4fdbfb66bd69b48719f3fa617ebf25ba9a6fea84"
 },
 "nbformat": 3,
 "nbformat_minor": 0,
 "worksheets": [
  {
   "cells": [
    {
     "cell_type": "heading",
     "level": 1,
     "metadata": {},
     "source": [
      "Programaci\u00f3n para *Data Science*"
     ]
    },
    {
     "cell_type": "markdown",
     "metadata": {},
     "source": [
      "Unidad 7: An\u00e1lisis de datos en Python - Ejercicios y preguntas\n",
      "------------------------------------------------------"
     ]
    },
    {
     "cell_type": "markdown",
     "metadata": {},
     "source": [
      "## Ejercicio 0\n",
      "\n",
      "Cargad el conjunto de datos Iris incorporado en la librer\u00eda `sklearn`."
     ]
    },
    {
     "cell_type": "code",
     "collapsed": false,
     "input": [
      "# Respuesta"
     ],
     "language": "python",
     "metadata": {},
     "outputs": [],
     "prompt_number": 1
    },
    {
     "cell_type": "markdown",
     "metadata": {},
     "source": [
      "## Ejercicio 1\n",
      "\n",
      "Implementad una funci\u00f3n, ```describe_iris```, que devuelva un diccionario con la siguiente estructura:\n",
      "```\n",
      "{\n",
      "   \"categorias\": [],\n",
      "   \"atributos\": [],\n",
      "   \"num_muestras\": 0\n",
      "}\n",
      "```\n",
      "\n",
      "*categorias* debe ser un array con el nombre de los **targets** del dataset. *atributos* debe ser un array con el nombre de los **atributos** y finalmente, *num_muestras* debe indicar el n\u00famero **total de muestras** del dataset. **(0.5 puntos)**\n"
     ]
    },
    {
     "cell_type": "code",
     "collapsed": false,
     "input": [
      "# Respuesta\n",
      "\n",
      "def describe_iris():\n",
      "    # C\u00f3digo a completar\n",
      "    return "
     ],
     "language": "python",
     "metadata": {},
     "outputs": [],
     "prompt_number": 50
    },
    {
     "cell_type": "markdown",
     "metadata": {},
     "source": [
      "## Ejercicio 2\n",
      "\n",
      "Representad gr\u00e1ficamente en un _scatter plot_ la longitud de los s\u00e9palos frente a la longitud de los p\u00e9talos. **(1.5 puntos)**\n",
      "\n",
      "Nota: para poder incluir acentos en los textos de las etiquetas o del t\u00edtulo del *plot*, es necesario indicar expl\u00edcitamente que las cadenas de caracteres son *unicode*. Pod\u00e9is hacerlo incluyendo una `u` delante de las comillas que delimitan la cadena de caracteres."
     ]
    },
    {
     "cell_type": "code",
     "collapsed": false,
     "input": [
      "# Ejemplo de cadena de caracateres unicode especificada expl\u00edcitamente.\n",
      "print u\"p\u00e9talo\""
     ],
     "language": "python",
     "metadata": {},
     "outputs": [
      {
       "output_type": "stream",
       "stream": "stdout",
       "text": [
        "p\u00e9talo\n"
       ]
      }
     ],
     "prompt_number": 3
    },
    {
     "cell_type": "code",
     "collapsed": false,
     "input": [
      "# Respuesta"
     ],
     "language": "python",
     "metadata": {},
     "outputs": [],
     "prompt_number": 51
    },
    {
     "cell_type": "markdown",
     "metadata": {},
     "source": [
      "## Pregunta 1\n",
      "\n",
      "En el Notebook de explicaci\u00f3n hemos utilizado un clasificador _k nearest neighbors_. Describid a grandes rasgos c\u00f3mo funciona este clasificador. **(1 punto)**"
     ]
    },
    {
     "cell_type": "markdown",
     "metadata": {},
     "source": [
      "#### Respuesta:\n"
     ]
    },
    {
     "cell_type": "markdown",
     "metadata": {},
     "source": [
      "## Ejercicio 3\n",
      "\n",
      "Aplicad el clasificador _KNeighborsClassifier_ para predecir el tipo de especie de iris utilizando la longitud y ancho de los p\u00e9talos como atributos y utilizando 20 muestras de aprendizaje y 20 muestras de test (pod\u00e9is usar cualquier partici\u00f3n de muestras de aprendizaje y de test). **(1 punto)** "
     ]
    },
    {
     "cell_type": "code",
     "collapsed": false,
     "input": [
      "# Respuesta"
     ],
     "language": "python",
     "metadata": {},
     "outputs": [],
     "prompt_number": 52
    },
    {
     "cell_type": "markdown",
     "metadata": {},
     "source": [
      "## Ejercicio 4\n",
      "\n",
      "Visualizad gr\u00e1ficamente el clasificador aprendido en el ejercicio anterior mostrando tanto las muestras usadas para el aprendizaje como las muestras utilizadas para el test. Utilizad colores para mostrar la clase (`target`) a la que pertenecen las muestras de aprendizaje y las de test. **(1 punto)**\n",
      "\n",
      "Pista: pod\u00e9is utilizar el c\u00f3digo que hemos visto en el Notebook de explicaci\u00f3n, a\u00f1adiendo una l\u00ednea que permita visualizar las muestras de test y cambiando el marcador para diferenciarlas de las muestras de aprendizaje."
     ]
    },
    {
     "cell_type": "code",
     "collapsed": false,
     "input": [
      "# Respuesta"
     ],
     "language": "python",
     "metadata": {},
     "outputs": [],
     "prompt_number": 53
    },
    {
     "cell_type": "markdown",
     "metadata": {},
     "source": [
      "## Pregunta 2\n",
      "\n",
      "Comparad la precisi\u00f3n del nuevo clasificador aprendido en el ejercicio 3 con la precisi\u00f3n del clasificador del Notebook de explicaci\u00f3n. \u00bfPodemos observar alguna diferencia? En caso afirmativo, explicad brevemente por qu\u00e9. **(1 punto)**"
     ]
    },
    {
     "cell_type": "markdown",
     "metadata": {},
     "source": [
      "#### Respuesta:\n"
     ]
    },
    {
     "cell_type": "markdown",
     "metadata": {},
     "source": [
      "## Ejercicio 5\n",
      "\n",
      "Implementad una funci\u00f3n, ```kfold_bins```, que nos devuelva las longitudes de los conjuntos de aprendizaje y test aplicando la funci\u00f3n _KFold_ a los datos del dataset Iris utilizando _K = 4_. El formato de salida de la funci\u00f3n deber\u00eda ser:\n",
      "\n",
      "```[ (longitud_apredizaje1, longitud_test1), ..., (longitud_apredizajeK, longitud_testK) ]```\n",
      "\n",
      "**(1 punto)**"
     ]
    },
    {
     "cell_type": "markdown",
     "metadata": {},
     "source": [
      "#### Respuesta:\n"
     ]
    },
    {
     "cell_type": "code",
     "collapsed": false,
     "input": [
      "# Respuesta\n",
      "\n",
      "def kfold_bins(k = 1):\n",
      "    # C\u00f3digo a completar  \n",
      "    return"
     ],
     "language": "python",
     "metadata": {},
     "outputs": [],
     "prompt_number": 54
    },
    {
     "cell_type": "markdown",
     "metadata": {},
     "source": [
      "## Ejercicio 6\n",
      "\n",
      "Aplicad el algoritmo de _clustering KMeans_ tal como hemos visto en el Notebook de explicaci\u00f3n, pero esta vez utilizando los siguientes par\u00e1metros:\n",
      "\n",
      "```\n",
      "N\u00famero de clusters: 3\n",
      "M\u00e9todo de inicializaci\u00f3n de los puntos centrales: 'random'\n",
      "N\u00famero de iteraciones para la selecci\u00f3n de puntos centrales: 1\n",
      "```\n",
      "\n",
      "Visualizad gr\u00e1ficamente el resulado. **(2 puntos)**"
     ]
    },
    {
     "cell_type": "code",
     "collapsed": false,
     "input": [
      "# Respuesta"
     ],
     "language": "python",
     "metadata": {},
     "outputs": [],
     "prompt_number": 55
    },
    {
     "cell_type": "markdown",
     "metadata": {},
     "source": [
      "## Pregunta 3\n",
      "\n",
      "Ejecutad 10 veces la celda anterior y observad el resultado final. \u00bfObtenemos siempre los mismos clusters? Explicad brevemente como pueden afectar los dos nuevos par\u00e1metros introducidos en el ejercicio anterior al resultado final. **(1 punto)**"
     ]
    },
    {
     "cell_type": "markdown",
     "metadata": {},
     "source": [
      "**Respuesta:**"
     ]
    },
    {
     "cell_type": "markdown",
     "metadata": {},
     "source": [
      "## Ejercicio Opcional\n",
      "\n",
      "Usad el clasificador _nearest centroid_ [https://en.wikipedia.org/wiki/Nearest_centroid_classifier](https://en.wikipedia.org/wiki/Nearest_centroid_classifier) para predecir el tipo de especies de iris. Visualizad de forma gr\u00e1fica el clasificador aprendido.\n",
      "\n",
      "Pista. Pod\u00e9is utilizar la librer\u00eda _sklearn_."
     ]
    }
   ],
   "metadata": {}
  }
 ]
}