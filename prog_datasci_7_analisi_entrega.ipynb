{
 "cells": [
  {
   "cell_type": "markdown",
   "metadata": {},
   "source": [
    "<div style=\"width: 100%; clear: both;\">\n",
    "    <div style=\"float: left; width: 50%;\">\n",
    "       <img src=\"http://www.uoc.edu/portal/_resources/common/imatges/marca_UOC/UOC_Masterbrand.jpg\", align=\"left\">\n",
    "    </div>\n",
    "</div>\n",
    "\n",
    "<div style=\"float: right; width: 50%;\">\n",
    "    <p style=\"margin: 0; padding-top: 22px; text-align:right;\">22.401 · Fonaments de Programació</p>\n",
    "    <p style=\"margin: 0; text-align:right;\">Grau en Ciència de Dades Aplicada</p>\n",
    "    <p style=\"margin: 0; text-align:right; padding-button: 100px;\">Estudis d'Informàtica, Multimèdia i Telecomunicació</p>\n",
    "</div>\n",
    "\n",
    "</div>\n",
    "<div style=\"width: 100%; clear: both;\">\n",
    "<div style=\"width:100%;\">&nbsp;</div>"
   ]
  },
  {
   "cell_type": "markdown",
   "metadata": {},
   "source": [
    "Fonaments de Programació\n",
    "============================\n",
    "\n",
    "PAC 7 - Introducció a l'anàlisi de dades en Python\n",
    "-----------------------------------------------------\n",
    "\n",
    "En aquest Notebook hi trobareu el conjunt d'activitats avaluables com a PAC de l'assignatura. Veureu que cadascuna d'elles té associada una puntuació, que indica el pes que té l'activitat sobre la nota de la PAC. Addicionalment, trobareu un exercici opcional, que no té puntuació dins de la PAC, però que es valora al final del semestre de cara a concedir les matrícules d'honor i arrodonir les notes finals. Podeu treure la màxima nota de la PAC sense necessitat de fer aquest exercici! L'objectiu d'aquest exercici és que serveixi com a petit repte per als estudiants que vulguin aprofundir en el contingut de l'assignatura.\n",
    "\n",
    "Veureu que totes les activitats de la PAC tenen una etiqueta, que indica els recursos necessaris per tal de dur-la a terme. Hi ha tres possibles etiquetes:\n",
    "\n",
    "* <span style=\"font-family: Courier New; background-color: #82b74b; color: #000000; padding: 3px; \">NM</span> **Només materials**: les eines necessàries per a realitzar l'activitat es poden trobar als materials de l'assignatura. \n",
    "\n",
    "* <span style=\"font-family: Courier New; background-color: #ffcc5c; color: #000000; padding: 3px; \">EG</span> **Consulta externa guiada**: l'activitat pot requerir fer ús d'eines que no es troben als materials de l'assignatura, però l'enunciat conté indicacions d'on o com trobar la informació addicional necessària per resoldre l'activitat.\n",
    "\n",
    "* <span style=\"font-family: Courier New; background-color: #f2ae72; color: #000000; padding: 3px; \">EI</span> **Consulta externa independent**: l'activitat pot requerir fer ús d'eines que no es troben als materials de l'assignatura, i l'enunciat pot no incloure la descripció d'on o com trobar aquesta informació addicional. Caldrà que l'estudiant busqui aquesta informació fent servir els recursos que s'han explicat a l'assignatura.\n",
    "\n",
    "És important notar que aquestes etiquetes no indiquen el nivell de dificultat de l'exercici, sinó únicament la necessitat de consulta de documentació externa per a la seva resolució. A més, recordeu que les **etiquetes són informatives**, però podeu consultar referències externes sempre que vulgueu (encara que no s'indiqui explícitament) o pot ser que pugueu fer una activitat sense consultar cap mena de documentació. Per exemple, per resoldre una activitat que només requereixi els materials de l'assignatura, podeu consultar referències externes si voleu, ja sigui tant per ajudar-vos en la reva resolució com per ampliar el coneixement! \n",
    "\n",
    "Pel que fa a la consulta de documentació externa en la resolució dels exercicis, recordeu **citar sempre la bibliografia utilitzada** per a resoldre cada activitat."
   ]
  },
  {
   "cell_type": "markdown",
   "metadata": {},
   "source": [
    "## Exercici 1\n",
    "\n",
    "Estudia el següent codi i descriu pas a pas el seu funcionament. **(0.5 punts)** <span style=\"font-family: Courier New; background-color: #82b74b; color: #000000; padding: 3px; \">NM</span>"
   ]
  },
  {
   "cell_type": "markdown",
   "metadata": {},
   "source": [
    "import numpy as np <br>\n",
    "data = np.vstack([ages, weight, children, gross, properties ]).T <br>\n",
    "<br>\n",
    "data_normalised = (data - data.mean(axis=0) )/ data.std(axis=0) <br>\n",
    "<br>\n",
    "pca = PCA(n_components=2) <br>\n",
    "pca.fit(data_normalised) <br>\n",
    "print(pca.explained_variance_ratio_) <br>\n",
    "print(pca.singular_values_) <br>\n",
    "<br>\n",
    "transformed_data = pca.transform(data_normalised) <br>\n",
    "<br>\n",
    "plt.scatter( transformed_data[:,0], transformed_data[:,1], c=corporative_job, cmap='jet') <br>\n",
    "plt.xlabel('PCA 1') <br>\n",
    "plt.ylabel('PCA 2') <br>"
   ]
  },
  {
   "cell_type": "markdown",
   "metadata": {},
   "source": [
    "#### Resposta \n",
    "\n"
   ]
  },
  {
   "cell_type": "markdown",
   "metadata": {},
   "source": [
    "## Exercici 2\n",
    "\n",
    "Carrega el conjunt de dades [diabetis](https://scikit-learn.org/stable/modules/generated/sklearn.datasets.load_diabetes.html) incorporat a la llibreria `sklearn`.\n",
    "\n",
    "En aquest conjunt de dades, hi ha registres de pacients amb diferents característiques que es relacionen amb la diabetis, així com el diagnòstic de cada un. La variable objectiu `target` és una mesura quantitativa de la progressió de la malaltia un any després de l'inici.\n",
    "\n",
    "1.1) Crea un dataframe, incloent una columna amb el nom *progressió*, que indiqui la progressió de la malaltia del pacient, és a dir, la variable `target`. La resta de columnes correspondran amb les característiques o `feature_names`.\n",
    "\n",
    "1.2) Crea una taula amb els estadístics descriptius de totes les característiques dels pacients de la base de dades `diabetes` agrupats per tipus: deteriorament sever (progressió de la diabetis per sobre de la mitjana del conjunt), deteriorament moderat (progressió de la diabetis per sota o igual a la mitjana del conjunt). Els estadístics descriptius han d'incloure la mitjana, la desviació típica, el mínim, el màxim, la mediana, el percentil 25 i el percentil 75.\n",
    "\n",
    "1.3) Un cop fet això, haureu de representar gràficament les dades de 'edat', i 'bmi', per tipus de deteriorament (sever o moderat) utilitzant un diagrama de barres que representi la mitjana i una barra d'error corresponent amb el [ error estàndard](https://pandas.pydata.org/pandas-docs/stable/reference/api/pandas.DataFrame.sem.html).\n",
    "\n",
    "1.4.) Explora la documentació del [dataset Diabetis](https://scikit-learn.org/stable/datasets/index.html#diabetes-dataset) i explica per què creus que els valors d'edat són tan petits.\n",
    "\n",
    "**(2 punts)** <span style=\"font-family: Courier New; background-color: #82b74b; color: #000000; padding: 3px; \">NM</span>\n",
    "\n",
    "\n"
   ]
  },
  {
   "cell_type": "code",
   "execution_count": 1,
   "metadata": {},
   "outputs": [],
   "source": [
    "# Resposta \n",
    "\n"
   ]
  },
  {
   "cell_type": "markdown",
   "metadata": {},
   "source": [
    "## Exercici 3\n",
    "\n",
    "Ara que teniu el conjunt de dades organitzat, traceu la distribució de les característiques \"edat\", \"sexe\" i \"bmi\". Per a això podeu utilitzar histogrames com hem vist al Quadern de teoria o podeu triar utilitzar un [diagrama de violí de la llibreria matplotlib](https://matplotlib.org/3.3.1/api/_as_gen/matplotlib.axes.Axes.violinplot .html). Assegureu-vos de mostrar una sola figura amb múltiples panells, dedicant un panell a cada característica dels pacients (ex. Edat). **(1 punt)** <span style=\"font-family: Courier New; background-color: #82b74b; color: #000000; padding: 3px; \">NM</span>"
   ]
  },
  {
   "cell_type": "code",
   "execution_count": null,
   "metadata": {},
   "outputs": [],
   "source": [
    "# Resposta\n"
   ]
  },
  {
   "cell_type": "markdown",
   "metadata": {},
   "source": [
    "## Exercici 4\n",
    "\n",
    "Donat aquest conjunt de dades, en un hospital ens demanen explorar quines tres característiques podrien ser els factors més rellevants per a la mala recuperació de pacients amb diabetis.\n",
    "\n",
    "1) La correlació ens permet estudiar la relació entre dues variables i Pandas ens ofereix una funció per calcular correlacions de forma senzilla, es tracta del mètode [corr( )](https://pandas.pydata.org/pandas-docs/stable/reference/api/pandas.DataFrame.corr.html). Mostra el resultat en una [matriu de correlacions o correlograma](https://es.wikipedia.org/wiki/Matriz_de_correlaci%C3%B3n) que representi gràficament la correlació de les característiques dels pacients de diabetis entre elles, així com la seva correlació amb la variable target. Indica quines són les tres característiques més rellevants per a la progressió de la malaltia i justifica la resposta. **(1 punt)**\n",
    "\n",
    "**Nota**: Et pot ser útil la funció [Pcolor de matplotlib](https://matplotlib.org/3.1.1/api/_as_gen/matplotlib.pyplot.pcolor.html). Si representes el correlograma amb una matriu de colors, no oblidis mostrar la barra de color.\n",
    "\n",
    "2) Seria possible utilitzar una tècnica d'anàlisi de dades **no supervisada** per resoldre aquest problema? Per què? **(0.5 punts)**\n",
    "\n",
    "<span style=\"font-family: Courier New; background-color: #ffcc5c; color: #000000; padding: 3px; \">EG</span>"
   ]
  },
  {
   "cell_type": "code",
   "execution_count": null,
   "metadata": {
    "scrolled": false
   },
   "outputs": [],
   "source": [
    "# Resposta\n"
   ]
  },
  {
   "cell_type": "markdown",
   "metadata": {},
   "source": [
    "## Exercici 5\n",
    "\n",
    "En els exercicis resolts hem vist com fer servir la regressió logística, i hem parlat de **la regressió lineal múltiple**.\n",
    "\n",
    "En aquest exercici, haureu d'aplicar la regressió lineal múltiple per construir un model predictiu de deteriorament en pacients de diabetis segons les característiques del conjunt de dades.\n",
    "\n",
    "- En primer lloc, haureu de dividir les dades en conjunts d'entrenament (*training*) i avaluació (*test*), amb una mida de la mostra per a test del 33%.\n",
    " \n",
    "- A continuació, entreneu el model amb la porció de dades per a l'entrenament i calculeu la precisió de el model. Escriviu una breu explicació que indiqui el que significa obtenir tal precisió.\n",
    "\n",
    "**(2 punts)** <span style=\"font-family: Courier New; background-color: #ffcc5c; color: #000000; padding: 3px; \">EG</span> "
   ]
  },
  {
   "cell_type": "code",
   "execution_count": null,
   "metadata": {},
   "outputs": [],
   "source": [
    "# Resposta\n",
    "\n"
   ]
  },
  {
   "cell_type": "markdown",
   "metadata": {},
   "source": [
    "## Exercici 6\n",
    "\n",
    "Feu un test estadístic [ttest](https://docs.scipy.org/doc/scipy/reference/generated/scipy.stats.ttest_ind.html) per respondre a la següent pregunta: Els homes diagnosticats amb diabetis tenen més tendència al deteriorament que les dones?\n",
    "<br>\n",
    "Hipòtesi nul·la: Els homes diagnosticats amb diabetis no tenen una tendència a la deterioració diferent de la que mostren les dones.\n",
    "<br>\n",
    "Hipòtesi alternativa: Els homes diagnosticats amb diabetis tenen una tendència diferent a la deterioració que les dones.\n",
    "<br>\n",
    "Un cop realitzat el test, interpreta els valors resultants i elabora una resposta. **(1 punt)** <span style=\"font-family: Courier New; background-color: #ffcc5c; color: #000000; padding: 3px; \">EG</span> \n",
    "\n",
    "**Nota:** Mira aquest [enllaç](http://www.conexionismo.com/leer_articulo.php?ref=prueba_t_de_student_para_la_comparacion_de_dos_muestras_independientes-j960497l) si vols ampliar coneixements sobre el test estadístic ttest. Per fer el test estadístic automàticament podeu utilitzar el mètode [ `ttest_ind`](https://docs.scipy.org/doc/scipy/reference/generated/scipy.stats.ttest_ind.html) de *Scipy.stats*"
   ]
  },
  {
   "cell_type": "code",
   "execution_count": null,
   "metadata": {},
   "outputs": [],
   "source": [
    "# Resposta\n",
    "\n"
   ]
  },
  {
   "cell_type": "markdown",
   "metadata": {},
   "source": [
    "## Exercici 7\n",
    "\n",
    "Apliqueu un classificador basat en un [arbre de decisió](https://es.wikipedia.org/wiki/Árbol_de_decisión)\n",
    "d'un màxim de 3 nivells de profunditat per predir la progressió de la diabetis (severa o moderada segons la categories realitzades en l'exercici 5) utilitzant el sexe, l'edat i el bmi com a atributs i utilitzant 60% de les mostres d'entrenament i el 40% de test. Heu utilitzar la funció [sklearn.tree.DecisionTreeClassifier](https://scikit-learn.org/stable/modules/generated/sklearn.tree.DecisionTreeClassifier.html).\n",
    "\n",
    "Quin valor de precisió obtenim en un model basat en un arbre de decisió? Representa l'arbre de decisió i exporta-ho a un arxiu PDF.\n",
    "\n",
    "**Nota:** Potser la funció [tree](https://scikit-learn.org/stable/modules/tree.html) de _sklearn_ sigui d'utilitat.\n",
    "\n",
    "**(2 punts)** <span style = \"font-family: Courier New; background-color: #f2ae72; color: #000000; padding: 3px;\">EI</span> "
   ]
  },
  {
   "cell_type": "code",
   "execution_count": null,
   "metadata": {},
   "outputs": [],
   "source": [
    "## Resposta"
   ]
  },
  {
   "cell_type": "markdown",
   "metadata": {},
   "source": [
    "## Exercici opcional\n",
    "\n",
    "En aquest exercici, assumirem que només podem usar 2 de les següents variables per predir el deteriorament del pacient: `age`, `sex`, `bmi`, `bp`, `s1`, `s 2`, `s3`, `s4`, `s5` , `s6`.\n",
    "\n",
    "Aplica un classificador *K-Nearest Neighbors* per predir el tipus de pacient segons\n",
    "el seu deteriorament (pregressió severa o moderada) donades només 2 variables. Per trobar que parell de variables és més rellevant per a assolir un millor rendiment de el model, hauràs d'avaluar el teu classificador per a cada parell de variables.\n",
    "\n",
    "<span style=\"font-family: Courier New; background-color: #82b74b; color: #000000; padding: 3px; \">NM</span>"
   ]
  },
  {
   "cell_type": "code",
   "execution_count": null,
   "metadata": {},
   "outputs": [],
   "source": [
    "## Resposta"
   ]
  }
 ],
 "metadata": {
  "kernelspec": {
   "display_name": "Python 3",
   "language": "python",
   "name": "python3"
  },
  "language_info": {
   "codemirror_mode": {
    "name": "ipython",
    "version": 3
   },
   "file_extension": ".py",
   "mimetype": "text/x-python",
   "name": "python",
   "nbconvert_exporter": "python",
   "pygments_lexer": "ipython3",
   "version": "3.7.4"
  }
 },
 "nbformat": 4,
 "nbformat_minor": 2
}
